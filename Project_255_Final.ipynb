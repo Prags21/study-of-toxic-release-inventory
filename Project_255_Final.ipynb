{
  "nbformat": 4,
  "nbformat_minor": 0,
  "metadata": {
    "colab": {
      "name": "Project_255_Final.ipynb",
      "provenance": [],
      "collapsed_sections": []
    },
    "kernelspec": {
      "name": "python3",
      "display_name": "Python 3"
    },
    "language_info": {
      "name": "python"
    }
  },
  "cells": [
    {
      "cell_type": "code",
      "metadata": {
        "colab": {
          "base_uri": "https://localhost:8080/"
        },
        "id": "NoqInXardHsw",
        "outputId": "d23994e1-1586-4606-8236-d5f5fb3152c5"
      },
      "source": [
        "from google.colab import drive\n",
        "drive.mount('/content/drive')"
      ],
      "execution_count": 1,
      "outputs": [
        {
          "output_type": "stream",
          "name": "stdout",
          "text": [
            "Mounted at /content/drive\n"
          ]
        }
      ]
    },
    {
      "cell_type": "code",
      "metadata": {
        "colab": {
          "base_uri": "https://localhost:8080/"
        },
        "id": "n_s_03I4ka7U",
        "outputId": "aee43403-62ea-4567-c49a-ebd8c97e7434"
      },
      "source": [
        "!ls \"/content/drive/My Drive/255 Project/basic_data_files.csv\""
      ],
      "execution_count": 2,
      "outputs": [
        {
          "output_type": "stream",
          "name": "stdout",
          "text": [
            "'/content/drive/My Drive/255 Project/basic_data_files.csv'\n"
          ]
        }
      ]
    },
    {
      "cell_type": "code",
      "metadata": {
        "id": "pEFbqZIliKTV"
      },
      "source": [
        "import pandas as pd\n",
        "import numpy as np\n",
        "import seaborn as sns\n",
        "import matplotlib as mpl \n",
        "import matplotlib.pyplot as plt"
      ],
      "execution_count": 3,
      "outputs": []
    },
    {
      "cell_type": "code",
      "metadata": {
        "colab": {
          "base_uri": "https://localhost:8080/",
          "height": 823
        },
        "id": "gUls0aMIitBj",
        "outputId": "3a285b86-fa6b-408b-ff38-003f09eee44b"
      },
      "source": [
        "df = pd.read_csv('/content/drive/My Drive/255 Project/basic_data_files.csv'\n",
        "                      , sep=',' \n",
        "                      , usecols=['YEAR', 'CITY', 'TRI_FACILITY_ID', 'FACILITY_NAME', 'LATITUDE', 'LONGITUDE','ST','FEDERAL_FACILITY',\n",
        "                                 'INDUSTRY_SECTOR','CHEMICAL','CLEAR_AIR_ACT_CHEMICAL','CAS_#/COMPOUND_ID', 'CLASSIFICATION', 'METAL', 'METAL_CATEGORY',\n",
        "                                 'CARCINOGEN','5.1_FUGITIVE_AIR', '5.2_STACK_AIR','5.3_WATER','5.4_UNDERGROUND','5.5.1_LANDFILLS',\n",
        "                                 '5.5.2_LAND_TREATMENT','5.5.3_SURFACE_IMPOUNDMENT', '5.5.4_OTHER_DISPOSAL','ON-SITE_RELEASE_TOTAL','OFF-SITE_RELEASE_TOTAL',\n",
        "                                 'OFF-SITE_RECYCLED_TOTAL','OFF-SITE_RECOVERY_TOTAL','OFF-SITE_TREATED_TOTAL',\n",
        "                                 'TOTAL_RELEASES','PROD._WASTE_(8.1_THRU_8.7)','PARENT_COMPANY_NAME'],                 nrows = 2548769)\n",
        "df"
      ],
      "execution_count": 33,
      "outputs": [
        {
          "output_type": "stream",
          "name": "stderr",
          "text": [
            "/usr/local/lib/python3.7/dist-packages/IPython/core/interactiveshell.py:2718: DtypeWarning: Columns (0,11,12,35,39,40,41,42,45,48,49,52,53,74,80,83,90,91,103) have mixed types.Specify dtype option on import or set low_memory=False.\n",
            "  interactivity=interactivity, compiler=compiler, result=result)\n"
          ]
        },
        {
          "output_type": "execute_result",
          "data": {
            "text/html": [
              "<div>\n",
              "<style scoped>\n",
              "    .dataframe tbody tr th:only-of-type {\n",
              "        vertical-align: middle;\n",
              "    }\n",
              "\n",
              "    .dataframe tbody tr th {\n",
              "        vertical-align: top;\n",
              "    }\n",
              "\n",
              "    .dataframe thead th {\n",
              "        text-align: right;\n",
              "    }\n",
              "</style>\n",
              "<table border=\"1\" class=\"dataframe\">\n",
              "  <thead>\n",
              "    <tr style=\"text-align: right;\">\n",
              "      <th></th>\n",
              "      <th>YEAR</th>\n",
              "      <th>TRI_FACILITY_ID</th>\n",
              "      <th>FACILITY_NAME</th>\n",
              "      <th>CITY</th>\n",
              "      <th>ST</th>\n",
              "      <th>LATITUDE</th>\n",
              "      <th>LONGITUDE</th>\n",
              "      <th>FEDERAL_FACILITY</th>\n",
              "      <th>INDUSTRY_SECTOR</th>\n",
              "      <th>CHEMICAL</th>\n",
              "      <th>CAS_#/COMPOUND_ID</th>\n",
              "      <th>CLEAR_AIR_ACT_CHEMICAL</th>\n",
              "      <th>CLASSIFICATION</th>\n",
              "      <th>METAL</th>\n",
              "      <th>METAL_CATEGORY</th>\n",
              "      <th>CARCINOGEN</th>\n",
              "      <th>5.1_FUGITIVE_AIR</th>\n",
              "      <th>5.2_STACK_AIR</th>\n",
              "      <th>5.3_WATER</th>\n",
              "      <th>5.4_UNDERGROUND</th>\n",
              "      <th>5.5.1_LANDFILLS</th>\n",
              "      <th>5.5.2_LAND_TREATMENT</th>\n",
              "      <th>5.5.3_SURFACE_IMPOUNDMENT</th>\n",
              "      <th>5.5.4_OTHER_DISPOSAL</th>\n",
              "      <th>ON-SITE_RELEASE_TOTAL</th>\n",
              "      <th>OFF-SITE_RELEASE_TOTAL</th>\n",
              "      <th>OFF-SITE_RECYCLED_TOTAL</th>\n",
              "      <th>OFF-SITE_RECOVERY_TOTAL</th>\n",
              "      <th>OFF-SITE_TREATED_TOTAL</th>\n",
              "      <th>TOTAL_RELEASES</th>\n",
              "      <th>PROD._WASTE_(8.1_THRU_8.7)</th>\n",
              "      <th>PARENT_COMPANY_NAME</th>\n",
              "    </tr>\n",
              "  </thead>\n",
              "  <tbody>\n",
              "    <tr>\n",
              "      <th>0</th>\n",
              "      <td>2016</td>\n",
              "      <td>46552DCTLT30350</td>\n",
              "      <td>EDCOAT LLC</td>\n",
              "      <td>NEW CARLISLE</td>\n",
              "      <td>IN</td>\n",
              "      <td>41.6934</td>\n",
              "      <td>-86.4552</td>\n",
              "      <td>NO</td>\n",
              "      <td>Fabricated Metals</td>\n",
              "      <td>CHROMIUM COMPOUNDS(EXCEPT CHROMITE ORE MINED I...</td>\n",
              "      <td>N090</td>\n",
              "      <td>YES</td>\n",
              "      <td>TRI</td>\n",
              "      <td>YES</td>\n",
              "      <td>1</td>\n",
              "      <td>NO</td>\n",
              "      <td>0</td>\n",
              "      <td>0</td>\n",
              "      <td>0</td>\n",
              "      <td>0</td>\n",
              "      <td>0</td>\n",
              "      <td>0</td>\n",
              "      <td>0</td>\n",
              "      <td>0</td>\n",
              "      <td>0</td>\n",
              "      <td>1170.32</td>\n",
              "      <td>0</td>\n",
              "      <td>0</td>\n",
              "      <td>0</td>\n",
              "      <td>1170.41</td>\n",
              "      <td>1170.32</td>\n",
              "      <td>NaN</td>\n",
              "    </tr>\n",
              "    <tr>\n",
              "      <th>1</th>\n",
              "      <td>2016</td>\n",
              "      <td>01950NNSPC3MALC</td>\n",
              "      <td>UNION SPECIALTIES INC</td>\n",
              "      <td>NEWBURYPORT</td>\n",
              "      <td>MA</td>\n",
              "      <td>42.7964</td>\n",
              "      <td>-70.8904</td>\n",
              "      <td>NO</td>\n",
              "      <td>Chemicals</td>\n",
              "      <td>CERTAIN GLYCOL ETHERS</td>\n",
              "      <td>N230</td>\n",
              "      <td>YES</td>\n",
              "      <td>TRI</td>\n",
              "      <td>NO</td>\n",
              "      <td>0</td>\n",
              "      <td>NO</td>\n",
              "      <td>1</td>\n",
              "      <td>17</td>\n",
              "      <td>0</td>\n",
              "      <td>0</td>\n",
              "      <td>0</td>\n",
              "      <td>0</td>\n",
              "      <td>0</td>\n",
              "      <td>0</td>\n",
              "      <td>18</td>\n",
              "      <td>0</td>\n",
              "      <td>0</td>\n",
              "      <td>0</td>\n",
              "      <td>0</td>\n",
              "      <td>18</td>\n",
              "      <td>18</td>\n",
              "      <td>NaN</td>\n",
              "    </tr>\n",
              "    <tr>\n",
              "      <th>2</th>\n",
              "      <td>2016</td>\n",
              "      <td>44691CRGLL1203T</td>\n",
              "      <td>CARGILL ANIMAL NUTRITION</td>\n",
              "      <td>WOOSTER</td>\n",
              "      <td>OH</td>\n",
              "      <td>40.7847</td>\n",
              "      <td>-81.9396</td>\n",
              "      <td>NO</td>\n",
              "      <td>Food</td>\n",
              "      <td>ZINC COMPOUNDS</td>\n",
              "      <td>N982</td>\n",
              "      <td>NO</td>\n",
              "      <td>TRI</td>\n",
              "      <td>YES</td>\n",
              "      <td>1</td>\n",
              "      <td>NO</td>\n",
              "      <td>0</td>\n",
              "      <td>0</td>\n",
              "      <td>0</td>\n",
              "      <td>0</td>\n",
              "      <td>0</td>\n",
              "      <td>0</td>\n",
              "      <td>0</td>\n",
              "      <td>0</td>\n",
              "      <td>0</td>\n",
              "      <td>0</td>\n",
              "      <td>0</td>\n",
              "      <td>0</td>\n",
              "      <td>0</td>\n",
              "      <td>0</td>\n",
              "      <td>0</td>\n",
              "      <td>CARGILL INC</td>\n",
              "    </tr>\n",
              "    <tr>\n",
              "      <th>3</th>\n",
              "      <td>2016</td>\n",
              "      <td>02745CSHNT215DU</td>\n",
              "      <td>ACUSHNET CO BALL PLANT III</td>\n",
              "      <td>NEW BEDFORD</td>\n",
              "      <td>MA</td>\n",
              "      <td>41.7254</td>\n",
              "      <td>-70.9552</td>\n",
              "      <td>NO</td>\n",
              "      <td>Miscellaneous Manufacturing</td>\n",
              "      <td>DIISOCYANATES</td>\n",
              "      <td>N120</td>\n",
              "      <td>YES</td>\n",
              "      <td>TRI</td>\n",
              "      <td>NO</td>\n",
              "      <td>0</td>\n",
              "      <td>NO</td>\n",
              "      <td>0</td>\n",
              "      <td>0</td>\n",
              "      <td>0</td>\n",
              "      <td>0</td>\n",
              "      <td>0</td>\n",
              "      <td>0</td>\n",
              "      <td>0</td>\n",
              "      <td>0</td>\n",
              "      <td>0</td>\n",
              "      <td>0</td>\n",
              "      <td>0</td>\n",
              "      <td>2191</td>\n",
              "      <td>106</td>\n",
              "      <td>0</td>\n",
              "      <td>2297</td>\n",
              "      <td>ACUSHNET HOLDINGS CORP</td>\n",
              "    </tr>\n",
              "    <tr>\n",
              "      <th>4</th>\n",
              "      <td>2016</td>\n",
              "      <td>30050CLRXC17LAK</td>\n",
              "      <td>CLOROX PRODUCTS MANUFACTURING CO</td>\n",
              "      <td>FOREST PARK</td>\n",
              "      <td>GA</td>\n",
              "      <td>33.6272</td>\n",
              "      <td>-84.3868</td>\n",
              "      <td>NO</td>\n",
              "      <td>Chemicals</td>\n",
              "      <td>CERTAIN GLYCOL ETHERS</td>\n",
              "      <td>N230</td>\n",
              "      <td>YES</td>\n",
              "      <td>TRI</td>\n",
              "      <td>NO</td>\n",
              "      <td>0</td>\n",
              "      <td>NO</td>\n",
              "      <td>5</td>\n",
              "      <td>5</td>\n",
              "      <td>0</td>\n",
              "      <td>0</td>\n",
              "      <td>0</td>\n",
              "      <td>0</td>\n",
              "      <td>0</td>\n",
              "      <td>0</td>\n",
              "      <td>10</td>\n",
              "      <td>20</td>\n",
              "      <td>0</td>\n",
              "      <td>0</td>\n",
              "      <td>230</td>\n",
              "      <td>50</td>\n",
              "      <td>260</td>\n",
              "      <td>THE CLOROX CO</td>\n",
              "    </tr>\n",
              "    <tr>\n",
              "      <th>...</th>\n",
              "      <td>...</td>\n",
              "      <td>...</td>\n",
              "      <td>...</td>\n",
              "      <td>...</td>\n",
              "      <td>...</td>\n",
              "      <td>...</td>\n",
              "      <td>...</td>\n",
              "      <td>...</td>\n",
              "      <td>...</td>\n",
              "      <td>...</td>\n",
              "      <td>...</td>\n",
              "      <td>...</td>\n",
              "      <td>...</td>\n",
              "      <td>...</td>\n",
              "      <td>...</td>\n",
              "      <td>...</td>\n",
              "      <td>...</td>\n",
              "      <td>...</td>\n",
              "      <td>...</td>\n",
              "      <td>...</td>\n",
              "      <td>...</td>\n",
              "      <td>...</td>\n",
              "      <td>...</td>\n",
              "      <td>...</td>\n",
              "      <td>...</td>\n",
              "      <td>...</td>\n",
              "      <td>...</td>\n",
              "      <td>...</td>\n",
              "      <td>...</td>\n",
              "      <td>...</td>\n",
              "      <td>...</td>\n",
              "      <td>...</td>\n",
              "    </tr>\n",
              "    <tr>\n",
              "      <th>2548764</th>\n",
              "      <td>1993</td>\n",
              "      <td>92704PWRCR2645S</td>\n",
              "      <td>TTM TECHNOLOGIES INC</td>\n",
              "      <td>SANTA ANA</td>\n",
              "      <td>CA</td>\n",
              "      <td>33.7115</td>\n",
              "      <td>-117.922</td>\n",
              "      <td>NO</td>\n",
              "      <td>Computers and Electronic Products</td>\n",
              "      <td>COPPER</td>\n",
              "      <td>007440508</td>\n",
              "      <td>NO</td>\n",
              "      <td>TRI</td>\n",
              "      <td>YES</td>\n",
              "      <td>1</td>\n",
              "      <td>NO</td>\n",
              "      <td>0</td>\n",
              "      <td>0</td>\n",
              "      <td>0</td>\n",
              "      <td>0</td>\n",
              "      <td>0</td>\n",
              "      <td>0</td>\n",
              "      <td>0</td>\n",
              "      <td>0</td>\n",
              "      <td>0</td>\n",
              "      <td>250</td>\n",
              "      <td>66400</td>\n",
              "      <td>0</td>\n",
              "      <td>0</td>\n",
              "      <td>500</td>\n",
              "      <td>66818</td>\n",
              "      <td>TTM TECHNOLOGIES INC</td>\n",
              "    </tr>\n",
              "    <tr>\n",
              "      <th>2548765</th>\n",
              "      <td>1993</td>\n",
              "      <td>61240KNNCS2266U</td>\n",
              "      <td>KONE INC ESCALATOR DIV</td>\n",
              "      <td>COAL VALLEY</td>\n",
              "      <td>IL</td>\n",
              "      <td>41.4559</td>\n",
              "      <td>-90.3897</td>\n",
              "      <td>NO</td>\n",
              "      <td>Machinery</td>\n",
              "      <td>COPPER</td>\n",
              "      <td>007440508</td>\n",
              "      <td>NO</td>\n",
              "      <td>TRI</td>\n",
              "      <td>YES</td>\n",
              "      <td>1</td>\n",
              "      <td>NO</td>\n",
              "      <td>0</td>\n",
              "      <td>0</td>\n",
              "      <td>0</td>\n",
              "      <td>0</td>\n",
              "      <td>0</td>\n",
              "      <td>0</td>\n",
              "      <td>0</td>\n",
              "      <td>0</td>\n",
              "      <td>0</td>\n",
              "      <td>0</td>\n",
              "      <td>1570</td>\n",
              "      <td>0</td>\n",
              "      <td>0</td>\n",
              "      <td>0</td>\n",
              "      <td>1570</td>\n",
              "      <td>KONE, INC</td>\n",
              "    </tr>\n",
              "    <tr>\n",
              "      <th>2548766</th>\n",
              "      <td>1993</td>\n",
              "      <td>46514THCNT28722</td>\n",
              "      <td>TRUCK ACCESSORIES GROUP INC. DBA CENTURY FIBER...</td>\n",
              "      <td>ELKHART</td>\n",
              "      <td>IN</td>\n",
              "      <td>41.7298</td>\n",
              "      <td>-86.018</td>\n",
              "      <td>NO</td>\n",
              "      <td>Plastics and Rubber</td>\n",
              "      <td>STYRENE</td>\n",
              "      <td>000100425</td>\n",
              "      <td>YES</td>\n",
              "      <td>TRI</td>\n",
              "      <td>NO</td>\n",
              "      <td>0</td>\n",
              "      <td>YES</td>\n",
              "      <td>2143</td>\n",
              "      <td>8569</td>\n",
              "      <td>0</td>\n",
              "      <td>0</td>\n",
              "      <td>0</td>\n",
              "      <td>0</td>\n",
              "      <td>0</td>\n",
              "      <td>0</td>\n",
              "      <td>10712</td>\n",
              "      <td>0</td>\n",
              "      <td>0</td>\n",
              "      <td>1551</td>\n",
              "      <td>0</td>\n",
              "      <td>10712</td>\n",
              "      <td>12263</td>\n",
              "      <td>TRUCK ACCESSORIES GROUP INC</td>\n",
              "    </tr>\n",
              "    <tr>\n",
              "      <th>2548767</th>\n",
              "      <td>1993</td>\n",
              "      <td>46787HTRSN601HA</td>\n",
              "      <td>DEKKO HEATING TECHNOLOGIES #25</td>\n",
              "      <td>SOUTH WHITLEY</td>\n",
              "      <td>IN</td>\n",
              "      <td>41.0909</td>\n",
              "      <td>-85.6334</td>\n",
              "      <td>NO</td>\n",
              "      <td>Electrical Equipment</td>\n",
              "      <td>ANTIMONY COMPOUNDS</td>\n",
              "      <td>N010</td>\n",
              "      <td>YES</td>\n",
              "      <td>TRI</td>\n",
              "      <td>YES</td>\n",
              "      <td>1</td>\n",
              "      <td>NO</td>\n",
              "      <td>0</td>\n",
              "      <td>0</td>\n",
              "      <td>0</td>\n",
              "      <td>0</td>\n",
              "      <td>0</td>\n",
              "      <td>0</td>\n",
              "      <td>0</td>\n",
              "      <td>0</td>\n",
              "      <td>0</td>\n",
              "      <td>1114</td>\n",
              "      <td>0</td>\n",
              "      <td>0</td>\n",
              "      <td>0</td>\n",
              "      <td>1114</td>\n",
              "      <td>5066</td>\n",
              "      <td>DEKKO HEATING TECHS</td>\n",
              "    </tr>\n",
              "    <tr>\n",
              "      <th>2548768</th>\n",
              "      <td>1993</td>\n",
              "      <td>77704MBLCHGULFS</td>\n",
              "      <td>EXXONMOBIL OIL CORP CHEMICAL PLANT</td>\n",
              "      <td>BEAUMONT</td>\n",
              "      <td>TX</td>\n",
              "      <td>30.0633</td>\n",
              "      <td>-94.0596</td>\n",
              "      <td>NO</td>\n",
              "      <td>Chemicals</td>\n",
              "      <td>COPPER</td>\n",
              "      <td>007440508</td>\n",
              "      <td>NO</td>\n",
              "      <td>TRI</td>\n",
              "      <td>YES</td>\n",
              "      <td>1</td>\n",
              "      <td>NO</td>\n",
              "      <td>0</td>\n",
              "      <td>0</td>\n",
              "      <td>0</td>\n",
              "      <td>0</td>\n",
              "      <td>0</td>\n",
              "      <td>0</td>\n",
              "      <td>0</td>\n",
              "      <td>0</td>\n",
              "      <td>0</td>\n",
              "      <td>0</td>\n",
              "      <td>0</td>\n",
              "      <td>0</td>\n",
              "      <td>0</td>\n",
              "      <td>0</td>\n",
              "      <td>0</td>\n",
              "      <td>EXXON MOBIL CORP</td>\n",
              "    </tr>\n",
              "  </tbody>\n",
              "</table>\n",
              "<p>2548769 rows × 32 columns</p>\n",
              "</div>"
            ],
            "text/plain": [
              "         YEAR  ...          PARENT_COMPANY_NAME\n",
              "0        2016  ...                          NaN\n",
              "1        2016  ...                          NaN\n",
              "2        2016  ...                  CARGILL INC\n",
              "3        2016  ...       ACUSHNET HOLDINGS CORP\n",
              "4        2016  ...                THE CLOROX CO\n",
              "...       ...  ...                          ...\n",
              "2548764  1993  ...         TTM TECHNOLOGIES INC\n",
              "2548765  1993  ...                    KONE, INC\n",
              "2548766  1993  ...  TRUCK ACCESSORIES GROUP INC\n",
              "2548767  1993  ...          DEKKO HEATING TECHS\n",
              "2548768  1993  ...             EXXON MOBIL CORP\n",
              "\n",
              "[2548769 rows x 32 columns]"
            ]
          },
          "metadata": {},
          "execution_count": 33
        }
      ]
    },
    {
      "cell_type": "code",
      "metadata": {
        "colab": {
          "base_uri": "https://localhost:8080/"
        },
        "id": "X1C0lJDVlmub",
        "outputId": "5bc7eab4-6757-4536-d7ad-64503678195d"
      },
      "source": [
        "df.dtypes"
      ],
      "execution_count": 34,
      "outputs": [
        {
          "output_type": "execute_result",
          "data": {
            "text/plain": [
              "YEAR                          object\n",
              "TRI_FACILITY_ID               object\n",
              "FACILITY_NAME                 object\n",
              "CITY                          object\n",
              "ST                            object\n",
              "LATITUDE                      object\n",
              "LONGITUDE                     object\n",
              "FEDERAL_FACILITY              object\n",
              "INDUSTRY_SECTOR               object\n",
              "CHEMICAL                      object\n",
              "CAS_#/COMPOUND_ID             object\n",
              "CLEAR_AIR_ACT_CHEMICAL        object\n",
              "CLASSIFICATION                object\n",
              "METAL                         object\n",
              "METAL_CATEGORY                object\n",
              "CARCINOGEN                    object\n",
              "5.1_FUGITIVE_AIR              object\n",
              "5.2_STACK_AIR                 object\n",
              "5.3_WATER                     object\n",
              "5.4_UNDERGROUND               object\n",
              "5.5.1_LANDFILLS               object\n",
              "5.5.2_LAND_TREATMENT          object\n",
              "5.5.3_SURFACE_IMPOUNDMENT     object\n",
              "5.5.4_OTHER_DISPOSAL          object\n",
              "ON-SITE_RELEASE_TOTAL         object\n",
              "OFF-SITE_RELEASE_TOTAL        object\n",
              "OFF-SITE_RECYCLED_TOTAL       object\n",
              "OFF-SITE_RECOVERY_TOTAL       object\n",
              "OFF-SITE_TREATED_TOTAL        object\n",
              "TOTAL_RELEASES                object\n",
              "PROD._WASTE_(8.1_THRU_8.7)    object\n",
              "PARENT_COMPANY_NAME           object\n",
              "dtype: object"
            ]
          },
          "metadata": {},
          "execution_count": 34
        }
      ]
    },
    {
      "cell_type": "code",
      "metadata": {
        "colab": {
          "base_uri": "https://localhost:8080/"
        },
        "id": "_bn0LtApneHF",
        "outputId": "f6c6ea94-3ce0-4e5b-fa75-f4042202b56f"
      },
      "source": [
        "sum(df['YEAR'].map(type) != int)"
      ],
      "execution_count": 35,
      "outputs": [
        {
          "output_type": "execute_result",
          "data": {
            "text/plain": [
              "237568"
            ]
          },
          "metadata": {},
          "execution_count": 35
        }
      ]
    },
    {
      "cell_type": "code",
      "metadata": {
        "colab": {
          "base_uri": "https://localhost:8080/"
        },
        "id": "cQpdBoyRhfID",
        "outputId": "1159e52d-42e9-482f-aaca-87887a2353ab"
      },
      "source": [
        "group_by_carrier = df.groupby(['YEAR'])\n",
        "group_by_carrier.size()"
      ],
      "execution_count": 36,
      "outputs": [
        {
          "output_type": "execute_result",
          "data": {
            "text/plain": [
              "YEAR\n",
              "1993     74785\n",
              "1994     73728\n",
              "1995     65536\n",
              "1996     73728\n",
              "1997     65536\n",
              "1998     81920\n",
              "1999     81920\n",
              "2000     81920\n",
              "2001     90112\n",
              "2002     90112\n",
              "2003     81920\n",
              "2004     90112\n",
              "2005     81920\n",
              "2006     81920\n",
              "2007     81920\n",
              "2008     73728\n",
              "2009     73728\n",
              "2010     73728\n",
              "2011    147456\n",
              "2012    163840\n",
              "2013    147456\n",
              "2014    147456\n",
              "2015    147456\n",
              "2016    139264\n",
              "1993      8177\n",
              "1994      4055\n",
              "1995     12164\n",
              "1996      1956\n",
              "1997     10126\n",
              "1998      8880\n",
              "1999      4959\n",
              "2000     12216\n",
              "2001      8488\n",
              "2002      5983\n",
              "2003     12304\n",
              "2004      2022\n",
              "2005      9960\n",
              "2006      8901\n",
              "2007      7041\n",
              "2008     13094\n",
              "2009      7868\n",
              "2010      8348\n",
              "2011     17306\n",
              "2012      1348\n",
              "2013     18234\n",
              "2014     19122\n",
              "2015     15540\n",
              "2016     19446\n",
              "YEAR        30\n",
              "dtype: int64"
            ]
          },
          "metadata": {},
          "execution_count": 36
        }
      ]
    },
    {
      "cell_type": "code",
      "metadata": {
        "id": "H-BbK0lyiaGa"
      },
      "source": [
        "df = df.drop(df[df.YEAR == 'YEAR'].index)"
      ],
      "execution_count": 37,
      "outputs": []
    },
    {
      "cell_type": "code",
      "metadata": {
        "colab": {
          "base_uri": "https://localhost:8080/"
        },
        "id": "5W4CR65IidCa",
        "outputId": "101fc44d-7384-463e-94c9-4d96017a21a5"
      },
      "source": [
        "sum(df['YEAR'].map(type) != int)"
      ],
      "execution_count": 38,
      "outputs": [
        {
          "output_type": "execute_result",
          "data": {
            "text/plain": [
              "237538"
            ]
          },
          "metadata": {},
          "execution_count": 38
        }
      ]
    },
    {
      "cell_type": "code",
      "metadata": {
        "id": "r2t-kD0NigHi"
      },
      "source": [
        "#df[793556]\n",
        "df['YEAR'] = pd.to_numeric(df['YEAR'])"
      ],
      "execution_count": 39,
      "outputs": []
    },
    {
      "cell_type": "code",
      "metadata": {
        "colab": {
          "base_uri": "https://localhost:8080/"
        },
        "id": "Qt_kFFdsTMan",
        "outputId": "2a9757ca-7069-4549-97b2-0fb4e9745a16"
      },
      "source": [
        "sum(df['YEAR'].map(type) != int)"
      ],
      "execution_count": 40,
      "outputs": [
        {
          "output_type": "execute_result",
          "data": {
            "text/plain": [
              "0"
            ]
          },
          "metadata": {},
          "execution_count": 40
        }
      ]
    },
    {
      "cell_type": "code",
      "metadata": {
        "colab": {
          "base_uri": "https://localhost:8080/"
        },
        "id": "PxtxV9HGTRj0",
        "outputId": "382fc880-24c9-441e-f151-d3b214ede7ed"
      },
      "source": [
        "sum(df['YEAR'].isnull()==True)"
      ],
      "execution_count": 41,
      "outputs": [
        {
          "output_type": "execute_result",
          "data": {
            "text/plain": [
              "0"
            ]
          },
          "metadata": {},
          "execution_count": 41
        }
      ]
    },
    {
      "cell_type": "code",
      "metadata": {
        "colab": {
          "base_uri": "https://localhost:8080/"
        },
        "id": "xAoNN69ETXBT",
        "outputId": "45642a7f-cdd2-4242-a835-dd6a218a620e"
      },
      "source": [
        "from scipy import stats\n",
        "\n",
        "frequent_year, count = stats.mode(df['YEAR'])\n",
        "\n",
        "Mode_of_year = int(frequent_year) # which age occurs most frequently in the dataset\n",
        "print(Mode_of_year)"
      ],
      "execution_count": 42,
      "outputs": [
        {
          "output_type": "stream",
          "name": "stdout",
          "text": [
            "2014\n"
          ]
        }
      ]
    },
    {
      "cell_type": "code",
      "metadata": {
        "colab": {
          "base_uri": "https://localhost:8080/"
        },
        "id": "FoG91Ux3TkmI",
        "outputId": "ef3a6424-d9b7-4205-911d-b7f935e83899"
      },
      "source": [
        "group_by_year = df.groupby(['YEAR'])\n",
        "group_by_year.size()"
      ],
      "execution_count": 43,
      "outputs": [
        {
          "output_type": "execute_result",
          "data": {
            "text/plain": [
              "YEAR\n",
              "1993     82962\n",
              "1994     77783\n",
              "1995     77700\n",
              "1996     75684\n",
              "1997     75662\n",
              "1998     90800\n",
              "1999     86879\n",
              "2000     94136\n",
              "2001     98600\n",
              "2002     96095\n",
              "2003     94224\n",
              "2004     92134\n",
              "2005     91880\n",
              "2006     90821\n",
              "2007     88961\n",
              "2008     86822\n",
              "2009     81596\n",
              "2010     82076\n",
              "2011    164762\n",
              "2012    165188\n",
              "2013    165690\n",
              "2014    166578\n",
              "2015    162996\n",
              "2016    158710\n",
              "dtype: int64"
            ]
          },
          "metadata": {},
          "execution_count": 43
        }
      ]
    },
    {
      "cell_type": "code",
      "metadata": {
        "colab": {
          "base_uri": "https://localhost:8080/"
        },
        "id": "OwtOdg-himyH",
        "outputId": "bbb9ac3f-e6ec-48d4-c846-36377ec838bc"
      },
      "source": [
        "from scipy import stats\n",
        "\n",
        "most_freq_year, count = stats.mode(df['YEAR'])\n",
        "\n",
        "year_mode = int(most_freq_year) # which age occurs most frequently in the dataset\n",
        "print(year_mode)"
      ],
      "execution_count": 44,
      "outputs": [
        {
          "output_type": "stream",
          "name": "stdout",
          "text": [
            "2014\n"
          ]
        }
      ]
    },
    {
      "cell_type": "code",
      "metadata": {
        "colab": {
          "base_uri": "https://localhost:8080/"
        },
        "id": "F9c8P3jdipdg",
        "outputId": "f549ed13-06a0-4629-d4e4-17fd1c126f20"
      },
      "source": [
        "group_by_year = df.groupby(['YEAR'])\n",
        "group_by_year.size()"
      ],
      "execution_count": 45,
      "outputs": [
        {
          "output_type": "execute_result",
          "data": {
            "text/plain": [
              "YEAR\n",
              "1993     82962\n",
              "1994     77783\n",
              "1995     77700\n",
              "1996     75684\n",
              "1997     75662\n",
              "1998     90800\n",
              "1999     86879\n",
              "2000     94136\n",
              "2001     98600\n",
              "2002     96095\n",
              "2003     94224\n",
              "2004     92134\n",
              "2005     91880\n",
              "2006     90821\n",
              "2007     88961\n",
              "2008     86822\n",
              "2009     81596\n",
              "2010     82076\n",
              "2011    164762\n",
              "2012    165188\n",
              "2013    165690\n",
              "2014    166578\n",
              "2015    162996\n",
              "2016    158710\n",
              "dtype: int64"
            ]
          },
          "metadata": {},
          "execution_count": 45
        }
      ]
    },
    {
      "cell_type": "code",
      "metadata": {
        "id": "48_obXuuTyQd"
      },
      "source": [
        "#Considering past 10 years\n",
        "df = df.drop(df[df.YEAR <2007].index)"
      ],
      "execution_count": 46,
      "outputs": []
    },
    {
      "cell_type": "code",
      "metadata": {
        "colab": {
          "base_uri": "https://localhost:8080/"
        },
        "id": "DIs4b2bYT6LB",
        "outputId": "0dcfcdc3-11a4-4833-ccae-d0858fadb38f"
      },
      "source": [
        "group_by_year = df.groupby(['YEAR'])\n",
        "group_by_year.size()"
      ],
      "execution_count": 47,
      "outputs": [
        {
          "output_type": "execute_result",
          "data": {
            "text/plain": [
              "YEAR\n",
              "2007     88961\n",
              "2008     86822\n",
              "2009     81596\n",
              "2010     82076\n",
              "2011    164762\n",
              "2012    165188\n",
              "2013    165690\n",
              "2014    166578\n",
              "2015    162996\n",
              "2016    158710\n",
              "dtype: int64"
            ]
          },
          "metadata": {},
          "execution_count": 47
        }
      ]
    },
    {
      "cell_type": "code",
      "metadata": {
        "colab": {
          "base_uri": "https://localhost:8080/",
          "height": 298
        },
        "id": "PHAU645qT_Mz",
        "outputId": "852d9378-290b-4508-f41f-5dad73a298f6"
      },
      "source": [
        "df.YEAR.value_counts().plot.bar()\n"
      ],
      "execution_count": 48,
      "outputs": [
        {
          "output_type": "execute_result",
          "data": {
            "text/plain": [
              "<matplotlib.axes._subplots.AxesSubplot at 0x7f66d398b910>"
            ]
          },
          "metadata": {},
          "execution_count": 48
        },
        {
          "output_type": "display_data",
          "data": {
            "image/png": "[encoded data removed]",
            "text/plain": [
              "<Figure size 432x288 with 1 Axes>"
            ]
          },
          "metadata": {
            "needs_background": "light"
          }
        }
      ]
    },
    {
      "cell_type": "code",
      "metadata": {
        "colab": {
          "base_uri": "https://localhost:8080/"
        },
        "id": "1Pkj833rUDvH",
        "outputId": "6dd248f1-4546-4d85-e081-d02e38712ca9"
      },
      "source": [
        "sum(df['LATITUDE'].map(type) == str)\n"
      ],
      "execution_count": 49,
      "outputs": [
        {
          "output_type": "execute_result",
          "data": {
            "text/plain": [
              "127235"
            ]
          },
          "metadata": {},
          "execution_count": 49
        }
      ]
    },
    {
      "cell_type": "code",
      "metadata": {
        "colab": {
          "base_uri": "https://localhost:8080/"
        },
        "id": "yV333sjDUFBg",
        "outputId": "f1836cf2-e7c0-4f36-a2d8-e1a34d1605cc"
      },
      "source": [
        "sum(df['LONGITUDE'].map(type) == str)\n"
      ],
      "execution_count": 50,
      "outputs": [
        {
          "output_type": "execute_result",
          "data": {
            "text/plain": [
              "127235"
            ]
          },
          "metadata": {},
          "execution_count": 50
        }
      ]
    },
    {
      "cell_type": "code",
      "metadata": {
        "id": "tHNa-BDIUHuv"
      },
      "source": [
        "df['LATITUDE'] = pd.to_numeric(df['LATITUDE'])\n",
        "df['LONGITUDE'] = pd.to_numeric(df['LONGITUDE'])"
      ],
      "execution_count": 51,
      "outputs": []
    },
    {
      "cell_type": "code",
      "metadata": {
        "colab": {
          "base_uri": "https://localhost:8080/"
        },
        "id": "pJQo3xCbULec",
        "outputId": "b38589a9-e01a-4323-8074-3673b1716b59"
      },
      "source": [
        "type(df['LATITUDE'][3])"
      ],
      "execution_count": 53,
      "outputs": [
        {
          "output_type": "execute_result",
          "data": {
            "text/plain": [
              "numpy.float64"
            ]
          },
          "metadata": {},
          "execution_count": 53
        }
      ]
    },
    {
      "cell_type": "code",
      "metadata": {
        "colab": {
          "base_uri": "https://localhost:8080/"
        },
        "id": "zs4eN-NsUQ4B",
        "outputId": "cb775e93-8c76-4c5c-af7a-30708904dcf4"
      },
      "source": [
        "sum(df['FACILITY_NAME'].map(type) == str)"
      ],
      "execution_count": 54,
      "outputs": [
        {
          "output_type": "execute_result",
          "data": {
            "text/plain": [
              "1323379"
            ]
          },
          "metadata": {},
          "execution_count": 54
        }
      ]
    },
    {
      "cell_type": "code",
      "metadata": {
        "colab": {
          "base_uri": "https://localhost:8080/"
        },
        "id": "69B5JVFVUU4u",
        "outputId": "e642792c-f8fa-4f70-e6ab-c4e5cb867b46"
      },
      "source": [
        "group_by_year = df.groupby(['CARCINOGEN'])\n",
        "group_by_year.size()"
      ],
      "execution_count": 55,
      "outputs": [
        {
          "output_type": "execute_result",
          "data": {
            "text/plain": [
              "CARCINOGEN\n",
              "NO     1000088\n",
              "YES     323291\n",
              "dtype: int64"
            ]
          },
          "metadata": {},
          "execution_count": 55
        }
      ]
    },
    {
      "cell_type": "code",
      "metadata": {
        "colab": {
          "base_uri": "https://localhost:8080/",
          "height": 302
        },
        "id": "ozqope-nUaEP",
        "outputId": "0e9b2920-21f9-4a29-d552-f9d214396ce2"
      },
      "source": [
        "df.CARCINOGEN.value_counts().plot.bar()"
      ],
      "execution_count": 56,
      "outputs": [
        {
          "output_type": "execute_result",
          "data": {
            "text/plain": [
              "<matplotlib.axes._subplots.AxesSubplot at 0x7f66cea76390>"
            ]
          },
          "metadata": {},
          "execution_count": 56
        },
        {
          "output_type": "display_data",
          "data": {
            "image/png": "[encoded data removed]",
            "text/plain": [
              "<Figure size 432x288 with 1 Axes>"
            ]
          },
          "metadata": {
            "needs_background": "light"
          }
        }
      ]
    },
    {
      "cell_type": "code",
      "metadata": {
        "colab": {
          "base_uri": "https://localhost:8080/"
        },
        "id": "CIFqw8zrUn_X",
        "outputId": "708ef2eb-5635-4878-dc14-1644914a3a1d"
      },
      "source": [
        "group_by_year = df.groupby(['CLASSIFICATION'])\n",
        "group_by_year.size()"
      ],
      "execution_count": 57,
      "outputs": [
        {
          "output_type": "execute_result",
          "data": {
            "text/plain": [
              "CLASSIFICATION\n",
              "Dioxin      16791\n",
              "PBT        215786\n",
              "TRI       1090802\n",
              "dtype: int64"
            ]
          },
          "metadata": {},
          "execution_count": 57
        }
      ]
    },
    {
      "cell_type": "code",
      "metadata": {
        "colab": {
          "base_uri": "https://localhost:8080/",
          "height": 315
        },
        "id": "6ypyyTPrUpDD",
        "outputId": "f88a99dd-1a7e-44b1-c8d9-6b652ac49f65"
      },
      "source": [
        "df.CLASSIFICATION.value_counts().plot.bar()"
      ],
      "execution_count": 58,
      "outputs": [
        {
          "output_type": "execute_result",
          "data": {
            "text/plain": [
              "<matplotlib.axes._subplots.AxesSubplot at 0x7f66d38d5990>"
            ]
          },
          "metadata": {},
          "execution_count": 58
        },
        {
          "output_type": "display_data",
          "data": {
            "image/png": "[encoded data removed]",
            "text/plain": [
              "<Figure size 432x288 with 1 Axes>"
            ]
          },
          "metadata": {
            "needs_background": "light"
          }
        }
      ]
    },
    {
      "cell_type": "code",
      "metadata": {
        "colab": {
          "base_uri": "https://localhost:8080/"
        },
        "id": "YLBgV88cqAkN",
        "outputId": "1b496e02-6c68-4d4e-eaaa-0c1f39eeef23"
      },
      "source": [
        "group_by_carrier = df.groupby(['TRI_FACILITY_ID'])\n",
        "group_by_carrier.size()"
      ],
      "execution_count": 59,
      "outputs": [
        {
          "output_type": "execute_result",
          "data": {
            "text/plain": [
              "TRI_FACILITY_ID\n",
              "00602SMRTMRD115      8\n",
              "00603HWLTTSTATE     30\n",
              "00603SYMMTLAMNT      3\n",
              "00608DCRBNRD3KM     31\n",
              "0060WHPNTRCARR1      4\n",
              "                  ... \n",
              "99801KNNCT13401    162\n",
              "9982WGLCRBPBX14      9\n",
              "99901LSKSH381TN      8\n",
              "99901SCSTG1300S     17\n",
              "99929TRDNT641SH      1\n",
              "Length: 31507, dtype: int64"
            ]
          },
          "metadata": {},
          "execution_count": 59
        }
      ]
    },
    {
      "cell_type": "code",
      "metadata": {
        "colab": {
          "base_uri": "https://localhost:8080/",
          "height": 739
        },
        "id": "QKmi9QdMr3Yz",
        "outputId": "2c307748-fb66-4cfc-c95b-7857ae9d90e7"
      },
      "source": [
        "df"
      ],
      "execution_count": 60,
      "outputs": [
        {
          "output_type": "execute_result",
          "data": {
            "text/html": [
              "<div>\n",
              "<style scoped>\n",
              "    .dataframe tbody tr th:only-of-type {\n",
              "        vertical-align: middle;\n",
              "    }\n",
              "\n",
              "    .dataframe tbody tr th {\n",
              "        vertical-align: top;\n",
              "    }\n",
              "\n",
              "    .dataframe thead th {\n",
              "        text-align: right;\n",
              "    }\n",
              "</style>\n",
              "<table border=\"1\" class=\"dataframe\">\n",
              "  <thead>\n",
              "    <tr style=\"text-align: right;\">\n",
              "      <th></th>\n",
              "      <th>YEAR</th>\n",
              "      <th>TRI_FACILITY_ID</th>\n",
              "      <th>FACILITY_NAME</th>\n",
              "      <th>CITY</th>\n",
              "      <th>ST</th>\n",
              "      <th>LATITUDE</th>\n",
              "      <th>LONGITUDE</th>\n",
              "      <th>FEDERAL_FACILITY</th>\n",
              "      <th>INDUSTRY_SECTOR</th>\n",
              "      <th>CHEMICAL</th>\n",
              "      <th>CAS_#/COMPOUND_ID</th>\n",
              "      <th>CLEAR_AIR_ACT_CHEMICAL</th>\n",
              "      <th>CLASSIFICATION</th>\n",
              "      <th>METAL</th>\n",
              "      <th>METAL_CATEGORY</th>\n",
              "      <th>CARCINOGEN</th>\n",
              "      <th>5.1_FUGITIVE_AIR</th>\n",
              "      <th>5.2_STACK_AIR</th>\n",
              "      <th>5.3_WATER</th>\n",
              "      <th>5.4_UNDERGROUND</th>\n",
              "      <th>5.5.1_LANDFILLS</th>\n",
              "      <th>5.5.2_LAND_TREATMENT</th>\n",
              "      <th>5.5.3_SURFACE_IMPOUNDMENT</th>\n",
              "      <th>5.5.4_OTHER_DISPOSAL</th>\n",
              "      <th>ON-SITE_RELEASE_TOTAL</th>\n",
              "      <th>OFF-SITE_RELEASE_TOTAL</th>\n",
              "      <th>OFF-SITE_RECYCLED_TOTAL</th>\n",
              "      <th>OFF-SITE_RECOVERY_TOTAL</th>\n",
              "      <th>OFF-SITE_TREATED_TOTAL</th>\n",
              "      <th>TOTAL_RELEASES</th>\n",
              "      <th>PROD._WASTE_(8.1_THRU_8.7)</th>\n",
              "      <th>PARENT_COMPANY_NAME</th>\n",
              "    </tr>\n",
              "  </thead>\n",
              "  <tbody>\n",
              "    <tr>\n",
              "      <th>0</th>\n",
              "      <td>2016</td>\n",
              "      <td>46552DCTLT30350</td>\n",
              "      <td>EDCOAT LLC</td>\n",
              "      <td>NEW CARLISLE</td>\n",
              "      <td>IN</td>\n",
              "      <td>41.693392</td>\n",
              "      <td>-86.455176</td>\n",
              "      <td>NO</td>\n",
              "      <td>Fabricated Metals</td>\n",
              "      <td>CHROMIUM COMPOUNDS(EXCEPT CHROMITE ORE MINED I...</td>\n",
              "      <td>N090</td>\n",
              "      <td>YES</td>\n",
              "      <td>TRI</td>\n",
              "      <td>YES</td>\n",
              "      <td>1</td>\n",
              "      <td>NO</td>\n",
              "      <td>0</td>\n",
              "      <td>0</td>\n",
              "      <td>0</td>\n",
              "      <td>0</td>\n",
              "      <td>0</td>\n",
              "      <td>0</td>\n",
              "      <td>0</td>\n",
              "      <td>0</td>\n",
              "      <td>0</td>\n",
              "      <td>1170.32</td>\n",
              "      <td>0</td>\n",
              "      <td>0</td>\n",
              "      <td>0</td>\n",
              "      <td>1170.41</td>\n",
              "      <td>1170.32</td>\n",
              "      <td>NaN</td>\n",
              "    </tr>\n",
              "    <tr>\n",
              "      <th>1</th>\n",
              "      <td>2016</td>\n",
              "      <td>01950NNSPC3MALC</td>\n",
              "      <td>UNION SPECIALTIES INC</td>\n",
              "      <td>NEWBURYPORT</td>\n",
              "      <td>MA</td>\n",
              "      <td>42.796400</td>\n",
              "      <td>-70.890440</td>\n",
              "      <td>NO</td>\n",
              "      <td>Chemicals</td>\n",
              "      <td>CERTAIN GLYCOL ETHERS</td>\n",
              "      <td>N230</td>\n",
              "      <td>YES</td>\n",
              "      <td>TRI</td>\n",
              "      <td>NO</td>\n",
              "      <td>0</td>\n",
              "      <td>NO</td>\n",
              "      <td>1</td>\n",
              "      <td>17</td>\n",
              "      <td>0</td>\n",
              "      <td>0</td>\n",
              "      <td>0</td>\n",
              "      <td>0</td>\n",
              "      <td>0</td>\n",
              "      <td>0</td>\n",
              "      <td>18</td>\n",
              "      <td>0</td>\n",
              "      <td>0</td>\n",
              "      <td>0</td>\n",
              "      <td>0</td>\n",
              "      <td>18</td>\n",
              "      <td>18</td>\n",
              "      <td>NaN</td>\n",
              "    </tr>\n",
              "    <tr>\n",
              "      <th>2</th>\n",
              "      <td>2016</td>\n",
              "      <td>44691CRGLL1203T</td>\n",
              "      <td>CARGILL ANIMAL NUTRITION</td>\n",
              "      <td>WOOSTER</td>\n",
              "      <td>OH</td>\n",
              "      <td>40.784710</td>\n",
              "      <td>-81.939580</td>\n",
              "      <td>NO</td>\n",
              "      <td>Food</td>\n",
              "      <td>ZINC COMPOUNDS</td>\n",
              "      <td>N982</td>\n",
              "      <td>NO</td>\n",
              "      <td>TRI</td>\n",
              "      <td>YES</td>\n",
              "      <td>1</td>\n",
              "      <td>NO</td>\n",
              "      <td>0</td>\n",
              "      <td>0</td>\n",
              "      <td>0</td>\n",
              "      <td>0</td>\n",
              "      <td>0</td>\n",
              "      <td>0</td>\n",
              "      <td>0</td>\n",
              "      <td>0</td>\n",
              "      <td>0</td>\n",
              "      <td>0</td>\n",
              "      <td>0</td>\n",
              "      <td>0</td>\n",
              "      <td>0</td>\n",
              "      <td>0</td>\n",
              "      <td>0</td>\n",
              "      <td>CARGILL INC</td>\n",
              "    </tr>\n",
              "    <tr>\n",
              "      <th>3</th>\n",
              "      <td>2016</td>\n",
              "      <td>02745CSHNT215DU</td>\n",
              "      <td>ACUSHNET CO BALL PLANT III</td>\n",
              "      <td>NEW BEDFORD</td>\n",
              "      <td>MA</td>\n",
              "      <td>41.725430</td>\n",
              "      <td>-70.955170</td>\n",
              "      <td>NO</td>\n",
              "      <td>Miscellaneous Manufacturing</td>\n",
              "      <td>DIISOCYANATES</td>\n",
              "      <td>N120</td>\n",
              "      <td>YES</td>\n",
              "      <td>TRI</td>\n",
              "      <td>NO</td>\n",
              "      <td>0</td>\n",
              "      <td>NO</td>\n",
              "      <td>0</td>\n",
              "      <td>0</td>\n",
              "      <td>0</td>\n",
              "      <td>0</td>\n",
              "      <td>0</td>\n",
              "      <td>0</td>\n",
              "      <td>0</td>\n",
              "      <td>0</td>\n",
              "      <td>0</td>\n",
              "      <td>0</td>\n",
              "      <td>0</td>\n",
              "      <td>2191</td>\n",
              "      <td>106</td>\n",
              "      <td>0</td>\n",
              "      <td>2297</td>\n",
              "      <td>ACUSHNET HOLDINGS CORP</td>\n",
              "    </tr>\n",
              "    <tr>\n",
              "      <th>4</th>\n",
              "      <td>2016</td>\n",
              "      <td>30050CLRXC17LAK</td>\n",
              "      <td>CLOROX PRODUCTS MANUFACTURING CO</td>\n",
              "      <td>FOREST PARK</td>\n",
              "      <td>GA</td>\n",
              "      <td>33.627222</td>\n",
              "      <td>-84.386839</td>\n",
              "      <td>NO</td>\n",
              "      <td>Chemicals</td>\n",
              "      <td>CERTAIN GLYCOL ETHERS</td>\n",
              "      <td>N230</td>\n",
              "      <td>YES</td>\n",
              "      <td>TRI</td>\n",
              "      <td>NO</td>\n",
              "      <td>0</td>\n",
              "      <td>NO</td>\n",
              "      <td>5</td>\n",
              "      <td>5</td>\n",
              "      <td>0</td>\n",
              "      <td>0</td>\n",
              "      <td>0</td>\n",
              "      <td>0</td>\n",
              "      <td>0</td>\n",
              "      <td>0</td>\n",
              "      <td>10</td>\n",
              "      <td>20</td>\n",
              "      <td>0</td>\n",
              "      <td>0</td>\n",
              "      <td>230</td>\n",
              "      <td>50</td>\n",
              "      <td>260</td>\n",
              "      <td>THE CLOROX CO</td>\n",
              "    </tr>\n",
              "    <tr>\n",
              "      <th>...</th>\n",
              "      <td>...</td>\n",
              "      <td>...</td>\n",
              "      <td>...</td>\n",
              "      <td>...</td>\n",
              "      <td>...</td>\n",
              "      <td>...</td>\n",
              "      <td>...</td>\n",
              "      <td>...</td>\n",
              "      <td>...</td>\n",
              "      <td>...</td>\n",
              "      <td>...</td>\n",
              "      <td>...</td>\n",
              "      <td>...</td>\n",
              "      <td>...</td>\n",
              "      <td>...</td>\n",
              "      <td>...</td>\n",
              "      <td>...</td>\n",
              "      <td>...</td>\n",
              "      <td>...</td>\n",
              "      <td>...</td>\n",
              "      <td>...</td>\n",
              "      <td>...</td>\n",
              "      <td>...</td>\n",
              "      <td>...</td>\n",
              "      <td>...</td>\n",
              "      <td>...</td>\n",
              "      <td>...</td>\n",
              "      <td>...</td>\n",
              "      <td>...</td>\n",
              "      <td>...</td>\n",
              "      <td>...</td>\n",
              "      <td>...</td>\n",
              "    </tr>\n",
              "    <tr>\n",
              "      <th>1323390</th>\n",
              "      <td>2007</td>\n",
              "      <td>08037MSSRL5SEGG</td>\n",
              "      <td>MASSARELLI'S LAWN ORNAMENTS INC</td>\n",
              "      <td>HAMMONTON</td>\n",
              "      <td>NJ</td>\n",
              "      <td>39.666363</td>\n",
              "      <td>-74.859163</td>\n",
              "      <td>NO</td>\n",
              "      <td>Nonmetallic Mineral Product</td>\n",
              "      <td>STYRENE</td>\n",
              "      <td>000100425</td>\n",
              "      <td>YES</td>\n",
              "      <td>TRI</td>\n",
              "      <td>NO</td>\n",
              "      <td>0</td>\n",
              "      <td>YES</td>\n",
              "      <td>1395</td>\n",
              "      <td>0</td>\n",
              "      <td>0</td>\n",
              "      <td>0</td>\n",
              "      <td>0</td>\n",
              "      <td>0</td>\n",
              "      <td>0</td>\n",
              "      <td>0</td>\n",
              "      <td>1395</td>\n",
              "      <td>0</td>\n",
              "      <td>0</td>\n",
              "      <td>0</td>\n",
              "      <td>0</td>\n",
              "      <td>1395</td>\n",
              "      <td>1395</td>\n",
              "      <td>NaN</td>\n",
              "    </tr>\n",
              "    <tr>\n",
              "      <th>1323391</th>\n",
              "      <td>2007</td>\n",
              "      <td>17566BCKCXBOX23</td>\n",
              "      <td>BUCK CO INC</td>\n",
              "      <td>QUARRYVILLE</td>\n",
              "      <td>PA</td>\n",
              "      <td>39.881910</td>\n",
              "      <td>-76.231750</td>\n",
              "      <td>NO</td>\n",
              "      <td>Primary Metals</td>\n",
              "      <td>TRIETHYLAMINE</td>\n",
              "      <td>000121448</td>\n",
              "      <td>YES</td>\n",
              "      <td>TRI</td>\n",
              "      <td>NO</td>\n",
              "      <td>0</td>\n",
              "      <td>NO</td>\n",
              "      <td>43</td>\n",
              "      <td>18</td>\n",
              "      <td>0</td>\n",
              "      <td>0</td>\n",
              "      <td>0</td>\n",
              "      <td>0</td>\n",
              "      <td>0</td>\n",
              "      <td>0</td>\n",
              "      <td>61</td>\n",
              "      <td>0</td>\n",
              "      <td>0</td>\n",
              "      <td>0</td>\n",
              "      <td>0</td>\n",
              "      <td>61</td>\n",
              "      <td>61</td>\n",
              "      <td>DIXON VALVE &amp; COUPLING CO</td>\n",
              "    </tr>\n",
              "    <tr>\n",
              "      <th>1323392</th>\n",
              "      <td>2007</td>\n",
              "      <td>22801STRYS500PL</td>\n",
              "      <td>AIRDYE SOLUTIONS LLC</td>\n",
              "      <td>HARRISONBURG</td>\n",
              "      <td>VA</td>\n",
              "      <td>38.391180</td>\n",
              "      <td>-78.900160</td>\n",
              "      <td>NO</td>\n",
              "      <td>Printing</td>\n",
              "      <td>METHANOL</td>\n",
              "      <td>000067561</td>\n",
              "      <td>YES</td>\n",
              "      <td>TRI</td>\n",
              "      <td>NO</td>\n",
              "      <td>0</td>\n",
              "      <td>NO</td>\n",
              "      <td>60</td>\n",
              "      <td>660</td>\n",
              "      <td>0</td>\n",
              "      <td>0</td>\n",
              "      <td>0</td>\n",
              "      <td>0</td>\n",
              "      <td>0</td>\n",
              "      <td>0</td>\n",
              "      <td>720</td>\n",
              "      <td>0</td>\n",
              "      <td>0</td>\n",
              "      <td>5280</td>\n",
              "      <td>0</td>\n",
              "      <td>720</td>\n",
              "      <td>90760</td>\n",
              "      <td>AIRDYE HOLDINGS LLC</td>\n",
              "    </tr>\n",
              "    <tr>\n",
              "      <th>1323393</th>\n",
              "      <td>2007</td>\n",
              "      <td>03062TRDYN4PITT</td>\n",
              "      <td>AMPHENOL APC INC</td>\n",
              "      <td>NASHUA</td>\n",
              "      <td>NH</td>\n",
              "      <td>42.738005</td>\n",
              "      <td>-71.489815</td>\n",
              "      <td>NO</td>\n",
              "      <td>Computers and Electronic Products</td>\n",
              "      <td>FORMIC ACID</td>\n",
              "      <td>000064186</td>\n",
              "      <td>NO</td>\n",
              "      <td>TRI</td>\n",
              "      <td>NO</td>\n",
              "      <td>0</td>\n",
              "      <td>NO</td>\n",
              "      <td>5</td>\n",
              "      <td>9.98</td>\n",
              "      <td>0</td>\n",
              "      <td>0</td>\n",
              "      <td>0</td>\n",
              "      <td>0</td>\n",
              "      <td>0</td>\n",
              "      <td>0</td>\n",
              "      <td>14.98</td>\n",
              "      <td>0</td>\n",
              "      <td>0</td>\n",
              "      <td>0</td>\n",
              "      <td>0</td>\n",
              "      <td>14.98</td>\n",
              "      <td>2829.02</td>\n",
              "      <td>AMPHENOL CORP</td>\n",
              "    </tr>\n",
              "    <tr>\n",
              "      <th>1323394</th>\n",
              "      <td>2007</td>\n",
              "      <td>64120HWTHR8700H</td>\n",
              "      <td>HAWTHORN GENERATING FACILITY</td>\n",
              "      <td>KANSAS CITY</td>\n",
              "      <td>MO</td>\n",
              "      <td>39.130833</td>\n",
              "      <td>-94.477778</td>\n",
              "      <td>NO</td>\n",
              "      <td>Electric Utilities</td>\n",
              "      <td>MERCURY COMPOUNDS</td>\n",
              "      <td>N458</td>\n",
              "      <td>YES</td>\n",
              "      <td>PBT</td>\n",
              "      <td>YES</td>\n",
              "      <td>1</td>\n",
              "      <td>NO</td>\n",
              "      <td>0</td>\n",
              "      <td>60</td>\n",
              "      <td>0</td>\n",
              "      <td>0</td>\n",
              "      <td>0</td>\n",
              "      <td>0</td>\n",
              "      <td>0</td>\n",
              "      <td>0</td>\n",
              "      <td>71</td>\n",
              "      <td>0</td>\n",
              "      <td>0</td>\n",
              "      <td>0</td>\n",
              "      <td>0</td>\n",
              "      <td>71</td>\n",
              "      <td>71</td>\n",
              "      <td>GREAT PLAINS ENERGY INC</td>\n",
              "    </tr>\n",
              "  </tbody>\n",
              "</table>\n",
              "<p>1323379 rows × 32 columns</p>\n",
              "</div>"
            ],
            "text/plain": [
              "         YEAR  ...        PARENT_COMPANY_NAME\n",
              "0        2016  ...                        NaN\n",
              "1        2016  ...                        NaN\n",
              "2        2016  ...                CARGILL INC\n",
              "3        2016  ...     ACUSHNET HOLDINGS CORP\n",
              "4        2016  ...              THE CLOROX CO\n",
              "...       ...  ...                        ...\n",
              "1323390  2007  ...                        NaN\n",
              "1323391  2007  ...  DIXON VALVE & COUPLING CO\n",
              "1323392  2007  ...        AIRDYE HOLDINGS LLC\n",
              "1323393  2007  ...              AMPHENOL CORP\n",
              "1323394  2007  ...    GREAT PLAINS ENERGY INC\n",
              "\n",
              "[1323379 rows x 32 columns]"
            ]
          },
          "metadata": {},
          "execution_count": 60
        }
      ]
    },
    {
      "cell_type": "code",
      "metadata": {
        "colab": {
          "base_uri": "https://localhost:8080/"
        },
        "id": "J0sPngtosTji",
        "outputId": "6cdd4ee2-1de4-4e40-9d44-d64e8428558a"
      },
      "source": [
        "group_by_year = df.groupby(['CITY'])\n",
        "group_by_year.size()"
      ],
      "execution_count": 61,
      "outputs": [
        {
          "output_type": "execute_result",
          "data": {
            "text/plain": [
              "CITY\n",
              "ABBEVILLE                  714\n",
              "ABBOTSFORD                  16\n",
              "ABBOTT PARK                 12\n",
              "ABERDEEN                   677\n",
              "ABERDEEN PROVING GROUND     41\n",
              "                          ... \n",
              "ZELLWOOD                    36\n",
              "ZEPHYRHILLS                 50\n",
              "ZION                        13\n",
              "ZUMBROTA                    33\n",
              "ZWOLLE                      12\n",
              "Length: 6224, dtype: int64"
            ]
          },
          "metadata": {},
          "execution_count": 61
        }
      ]
    },
    {
      "cell_type": "code",
      "metadata": {
        "id": "L9NEHzcLWqoi"
      },
      "source": [
        ""
      ],
      "execution_count": null,
      "outputs": []
    }
  ]
}