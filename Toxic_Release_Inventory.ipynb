{
  "nbformat": 4,
  "nbformat_minor": 0,
  "metadata": {
    "colab": {
      "name": "Copy of Toxic Release Inventory.ipynb",
      "provenance": [],
      "collapsed_sections": []
    },
    "kernelspec": {
      "name": "python3",
      "display_name": "Python 3"
    },
    "language_info": {
      "name": "python"
    }
  },
  "cells": [
    {
      "cell_type": "code",
      "metadata": {
        "colab": {
          "base_uri": "https://localhost:8080/"
        },
        "id": "3HVhtr6KQjjy",
        "outputId": "bfbfed88-5ca4-42d0-acaa-13725681dc05"
      },
      "source": [
        "from google.colab import drive\n",
        "drive.mount('/content/drive')"
      ],
      "execution_count": null,
      "outputs": [
        {
          "output_type": "stream",
          "name": "stdout",
          "text": [
            "Mounted at /content/drive\n"
          ]
        }
      ]
    },
    {
      "cell_type": "code",
      "metadata": {
        "colab": {
          "base_uri": "https://localhost:8080/"
        },
        "id": "0tMugWTbUa8G",
        "outputId": "4488226d-6932-41b0-afbb-3c60e0b26aa1"
      },
      "source": [
        "!ls \"/content/drive/My Drive/255_Dataset/basic_data_files.csv\""
      ],
      "execution_count": null,
      "outputs": [
        {
          "output_type": "stream",
          "name": "stdout",
          "text": [
            "'/content/drive/My Drive/255_Dataset/basic_data_files.csv'\n"
          ]
        }
      ]
    },
    {
      "cell_type": "code",
      "metadata": {
        "id": "Jbm5J3qtsvfx"
      },
      "source": [
        "import pandas as pd\n",
        "import numpy as np\n",
        "import matplotlib.pyplot as plt\n",
        "\n",
        "df = pd.read_csv('/content/drive/My Drive/255_Dataset/basic_data_files.csv'\n",
        "                      , sep=',' ,nrows=3)"
      ],
      "execution_count": null,
      "outputs": []
    },
    {
      "cell_type": "code",
      "metadata": {
        "colab": {
          "base_uri": "https://localhost:8080/"
        },
        "id": "hSRR2foZs0pc",
        "outputId": "29b97c9b-1f10-45de-a71b-c5edb2f9c2ae"
      },
      "source": [
        "df.columns[60:90]"
      ],
      "execution_count": null,
      "outputs": [
        {
          "output_type": "execute_result",
          "data": {
            "text/plain": [
              "Index(['6.2_M71', '6.2_M81', '6.2_M82', '6.2_M72', '6.2_M63', '6.2_M66',\n",
              "       '6.2_M67', '6.2_M64', '6.2_M65', '6.2_M73', '6.2_M79', '6.2_M90',\n",
              "       '6.2_M94', '6.2_M99', 'OFF-SITE_RELEASE_TOTAL', '6.2_M20', '6.2_M24',\n",
              "       '6.2_M26', '6.2_M28', '6.2_M93', 'OFF-SITE_RECYCLED_TOTAL', '6.2_M56',\n",
              "       '6.2_M92', 'OFF-SITE_RECOVERY_TOTAL', '6.2_M40', '6.2_M50', '6.2_M54',\n",
              "       '6.2_M61', '6.2_M69', '6.2_M95'],\n",
              "      dtype='object')"
            ]
          },
          "metadata": {},
          "execution_count": 8
        }
      ]
    },
    {
      "cell_type": "markdown",
      "metadata": {
        "id": "YA2wqujOAdpC"
      },
      "source": [
        "**Load all rows with only selected columns**"
      ]
    },
    {
      "cell_type": "code",
      "metadata": {
        "colab": {
          "base_uri": "https://localhost:8080/",
          "height": 830
        },
        "id": "d5Syw9FJAhYZ",
        "outputId": "b0211454-6f1a-41de-9814-2d62176f4a1a"
      },
      "source": [
        "import pandas as pd\n",
        "import numpy as np\n",
        "\n",
        "df = pd.read_csv('/content/drive/My Drive/255_Dataset/basic_data_files.csv'\n",
        "                      , sep=',' \n",
        "                      , usecols=['YEAR', 'TRI_FACILITY_ID', 'FACILITY_NAME', 'LATITUDE', 'LONGITUDE','ST','FEDERAL_FACILITY',\n",
        "                                 'INDUSTRY_SECTOR','CHEMICAL','CLEAR_AIR_ACT_CHEMICAL','CAS_#/COMPOUND_ID', 'CLASSIFICATION', 'METAL', 'METAL_CATEGORY',\n",
        "                                 'CARCINOGEN','5.1_FUGITIVE_AIR', '5.2_STACK_AIR','5.3_WATER','5.4_UNDERGROUND','5.5.1_LANDFILLS',\n",
        "                                 '5.5.2_LAND_TREATMENT','5.5.3_SURFACE_IMPOUNDMENT', '5.5.4_OTHER_DISPOSAL','ON-SITE_RELEASE_TOTAL','OFF-SITE_RELEASE_TOTAL',\n",
        "                                 'OFF-SITE_RECYCLED_TOTAL','OFF-SITE_RECOVERY_TOTAL','OFF-SITE_TREATED_TOTAL',\n",
        "                                 'TOTAL_RELEASES','PROD._WASTE_(8.1_THRU_8.7)','PARENT_COMPANY_NAME'],\n",
        "                 nrows = 2548769)\n",
        "df"
      ],
      "execution_count": null,
      "outputs": [
        {
          "output_type": "stream",
          "name": "stderr",
          "text": [
            "/usr/local/lib/python3.7/dist-packages/IPython/core/interactiveshell.py:2718: DtypeWarning: Columns (0,11,12,35,39,40,41,42,45,48,49,52,53,74,80,83,90,91,103) have mixed types.Specify dtype option on import or set low_memory=False.\n",
            "  interactivity=interactivity, compiler=compiler, result=result)\n"
          ]
        },
        {
          "output_type": "execute_result",
          "data": {
            "text/html": [
              "<div>\n",
              "<style scoped>\n",
              "    .dataframe tbody tr th:only-of-type {\n",
              "        vertical-align: middle;\n",
              "    }\n",
              "\n",
              "    .dataframe tbody tr th {\n",
              "        vertical-align: top;\n",
              "    }\n",
              "\n",
              "    .dataframe thead th {\n",
              "        text-align: right;\n",
              "    }\n",
              "</style>\n",
              "<table border=\"1\" class=\"dataframe\">\n",
              "  <thead>\n",
              "    <tr style=\"text-align: right;\">\n",
              "      <th></th>\n",
              "      <th>YEAR</th>\n",
              "      <th>TRI_FACILITY_ID</th>\n",
              "      <th>FACILITY_NAME</th>\n",
              "      <th>ST</th>\n",
              "      <th>LATITUDE</th>\n",
              "      <th>LONGITUDE</th>\n",
              "      <th>FEDERAL_FACILITY</th>\n",
              "      <th>INDUSTRY_SECTOR</th>\n",
              "      <th>CHEMICAL</th>\n",
              "      <th>CAS_#/COMPOUND_ID</th>\n",
              "      <th>CLEAR_AIR_ACT_CHEMICAL</th>\n",
              "      <th>CLASSIFICATION</th>\n",
              "      <th>METAL</th>\n",
              "      <th>METAL_CATEGORY</th>\n",
              "      <th>CARCINOGEN</th>\n",
              "      <th>5.1_FUGITIVE_AIR</th>\n",
              "      <th>5.2_STACK_AIR</th>\n",
              "      <th>5.3_WATER</th>\n",
              "      <th>5.4_UNDERGROUND</th>\n",
              "      <th>5.5.1_LANDFILLS</th>\n",
              "      <th>5.5.2_LAND_TREATMENT</th>\n",
              "      <th>5.5.3_SURFACE_IMPOUNDMENT</th>\n",
              "      <th>5.5.4_OTHER_DISPOSAL</th>\n",
              "      <th>ON-SITE_RELEASE_TOTAL</th>\n",
              "      <th>OFF-SITE_RELEASE_TOTAL</th>\n",
              "      <th>OFF-SITE_RECYCLED_TOTAL</th>\n",
              "      <th>OFF-SITE_RECOVERY_TOTAL</th>\n",
              "      <th>OFF-SITE_TREATED_TOTAL</th>\n",
              "      <th>TOTAL_RELEASES</th>\n",
              "      <th>PROD._WASTE_(8.1_THRU_8.7)</th>\n",
              "      <th>PARENT_COMPANY_NAME</th>\n",
              "    </tr>\n",
              "  </thead>\n",
              "  <tbody>\n",
              "    <tr>\n",
              "      <th>0</th>\n",
              "      <td>2016</td>\n",
              "      <td>46552DCTLT30350</td>\n",
              "      <td>EDCOAT LLC</td>\n",
              "      <td>IN</td>\n",
              "      <td>41.6934</td>\n",
              "      <td>-86.4552</td>\n",
              "      <td>NO</td>\n",
              "      <td>Fabricated Metals</td>\n",
              "      <td>CHROMIUM COMPOUNDS(EXCEPT CHROMITE ORE MINED I...</td>\n",
              "      <td>N090</td>\n",
              "      <td>YES</td>\n",
              "      <td>TRI</td>\n",
              "      <td>YES</td>\n",
              "      <td>1</td>\n",
              "      <td>NO</td>\n",
              "      <td>0</td>\n",
              "      <td>0</td>\n",
              "      <td>0</td>\n",
              "      <td>0</td>\n",
              "      <td>0</td>\n",
              "      <td>0</td>\n",
              "      <td>0</td>\n",
              "      <td>0</td>\n",
              "      <td>0</td>\n",
              "      <td>1170.32</td>\n",
              "      <td>0</td>\n",
              "      <td>0</td>\n",
              "      <td>0</td>\n",
              "      <td>1170.41</td>\n",
              "      <td>1170.32</td>\n",
              "      <td>NaN</td>\n",
              "    </tr>\n",
              "    <tr>\n",
              "      <th>1</th>\n",
              "      <td>2016</td>\n",
              "      <td>01950NNSPC3MALC</td>\n",
              "      <td>UNION SPECIALTIES INC</td>\n",
              "      <td>MA</td>\n",
              "      <td>42.7964</td>\n",
              "      <td>-70.8904</td>\n",
              "      <td>NO</td>\n",
              "      <td>Chemicals</td>\n",
              "      <td>CERTAIN GLYCOL ETHERS</td>\n",
              "      <td>N230</td>\n",
              "      <td>YES</td>\n",
              "      <td>TRI</td>\n",
              "      <td>NO</td>\n",
              "      <td>0</td>\n",
              "      <td>NO</td>\n",
              "      <td>1</td>\n",
              "      <td>17</td>\n",
              "      <td>0</td>\n",
              "      <td>0</td>\n",
              "      <td>0</td>\n",
              "      <td>0</td>\n",
              "      <td>0</td>\n",
              "      <td>0</td>\n",
              "      <td>18</td>\n",
              "      <td>0</td>\n",
              "      <td>0</td>\n",
              "      <td>0</td>\n",
              "      <td>0</td>\n",
              "      <td>18</td>\n",
              "      <td>18</td>\n",
              "      <td>NaN</td>\n",
              "    </tr>\n",
              "    <tr>\n",
              "      <th>2</th>\n",
              "      <td>2016</td>\n",
              "      <td>44691CRGLL1203T</td>\n",
              "      <td>CARGILL ANIMAL NUTRITION</td>\n",
              "      <td>OH</td>\n",
              "      <td>40.7847</td>\n",
              "      <td>-81.9396</td>\n",
              "      <td>NO</td>\n",
              "      <td>Food</td>\n",
              "      <td>ZINC COMPOUNDS</td>\n",
              "      <td>N982</td>\n",
              "      <td>NO</td>\n",
              "      <td>TRI</td>\n",
              "      <td>YES</td>\n",
              "      <td>1</td>\n",
              "      <td>NO</td>\n",
              "      <td>0</td>\n",
              "      <td>0</td>\n",
              "      <td>0</td>\n",
              "      <td>0</td>\n",
              "      <td>0</td>\n",
              "      <td>0</td>\n",
              "      <td>0</td>\n",
              "      <td>0</td>\n",
              "      <td>0</td>\n",
              "      <td>0</td>\n",
              "      <td>0</td>\n",
              "      <td>0</td>\n",
              "      <td>0</td>\n",
              "      <td>0</td>\n",
              "      <td>0</td>\n",
              "      <td>CARGILL INC</td>\n",
              "    </tr>\n",
              "    <tr>\n",
              "      <th>3</th>\n",
              "      <td>2016</td>\n",
              "      <td>02745CSHNT215DU</td>\n",
              "      <td>ACUSHNET CO BALL PLANT III</td>\n",
              "      <td>MA</td>\n",
              "      <td>41.7254</td>\n",
              "      <td>-70.9552</td>\n",
              "      <td>NO</td>\n",
              "      <td>Miscellaneous Manufacturing</td>\n",
              "      <td>DIISOCYANATES</td>\n",
              "      <td>N120</td>\n",
              "      <td>YES</td>\n",
              "      <td>TRI</td>\n",
              "      <td>NO</td>\n",
              "      <td>0</td>\n",
              "      <td>NO</td>\n",
              "      <td>0</td>\n",
              "      <td>0</td>\n",
              "      <td>0</td>\n",
              "      <td>0</td>\n",
              "      <td>0</td>\n",
              "      <td>0</td>\n",
              "      <td>0</td>\n",
              "      <td>0</td>\n",
              "      <td>0</td>\n",
              "      <td>0</td>\n",
              "      <td>0</td>\n",
              "      <td>2191</td>\n",
              "      <td>106</td>\n",
              "      <td>0</td>\n",
              "      <td>2297</td>\n",
              "      <td>ACUSHNET HOLDINGS CORP</td>\n",
              "    </tr>\n",
              "    <tr>\n",
              "      <th>4</th>\n",
              "      <td>2016</td>\n",
              "      <td>30050CLRXC17LAK</td>\n",
              "      <td>CLOROX PRODUCTS MANUFACTURING CO</td>\n",
              "      <td>GA</td>\n",
              "      <td>33.6272</td>\n",
              "      <td>-84.3868</td>\n",
              "      <td>NO</td>\n",
              "      <td>Chemicals</td>\n",
              "      <td>CERTAIN GLYCOL ETHERS</td>\n",
              "      <td>N230</td>\n",
              "      <td>YES</td>\n",
              "      <td>TRI</td>\n",
              "      <td>NO</td>\n",
              "      <td>0</td>\n",
              "      <td>NO</td>\n",
              "      <td>5</td>\n",
              "      <td>5</td>\n",
              "      <td>0</td>\n",
              "      <td>0</td>\n",
              "      <td>0</td>\n",
              "      <td>0</td>\n",
              "      <td>0</td>\n",
              "      <td>0</td>\n",
              "      <td>10</td>\n",
              "      <td>20</td>\n",
              "      <td>0</td>\n",
              "      <td>0</td>\n",
              "      <td>230</td>\n",
              "      <td>50</td>\n",
              "      <td>260</td>\n",
              "      <td>THE CLOROX CO</td>\n",
              "    </tr>\n",
              "    <tr>\n",
              "      <th>...</th>\n",
              "      <td>...</td>\n",
              "      <td>...</td>\n",
              "      <td>...</td>\n",
              "      <td>...</td>\n",
              "      <td>...</td>\n",
              "      <td>...</td>\n",
              "      <td>...</td>\n",
              "      <td>...</td>\n",
              "      <td>...</td>\n",
              "      <td>...</td>\n",
              "      <td>...</td>\n",
              "      <td>...</td>\n",
              "      <td>...</td>\n",
              "      <td>...</td>\n",
              "      <td>...</td>\n",
              "      <td>...</td>\n",
              "      <td>...</td>\n",
              "      <td>...</td>\n",
              "      <td>...</td>\n",
              "      <td>...</td>\n",
              "      <td>...</td>\n",
              "      <td>...</td>\n",
              "      <td>...</td>\n",
              "      <td>...</td>\n",
              "      <td>...</td>\n",
              "      <td>...</td>\n",
              "      <td>...</td>\n",
              "      <td>...</td>\n",
              "      <td>...</td>\n",
              "      <td>...</td>\n",
              "      <td>...</td>\n",
              "    </tr>\n",
              "    <tr>\n",
              "      <th>2548764</th>\n",
              "      <td>1993</td>\n",
              "      <td>92704PWRCR2645S</td>\n",
              "      <td>TTM TECHNOLOGIES INC</td>\n",
              "      <td>CA</td>\n",
              "      <td>33.7115</td>\n",
              "      <td>-117.922</td>\n",
              "      <td>NO</td>\n",
              "      <td>Computers and Electronic Products</td>\n",
              "      <td>COPPER</td>\n",
              "      <td>007440508</td>\n",
              "      <td>NO</td>\n",
              "      <td>TRI</td>\n",
              "      <td>YES</td>\n",
              "      <td>1</td>\n",
              "      <td>NO</td>\n",
              "      <td>0</td>\n",
              "      <td>0</td>\n",
              "      <td>0</td>\n",
              "      <td>0</td>\n",
              "      <td>0</td>\n",
              "      <td>0</td>\n",
              "      <td>0</td>\n",
              "      <td>0</td>\n",
              "      <td>0</td>\n",
              "      <td>250</td>\n",
              "      <td>66400</td>\n",
              "      <td>0</td>\n",
              "      <td>0</td>\n",
              "      <td>500</td>\n",
              "      <td>66818</td>\n",
              "      <td>TTM TECHNOLOGIES INC</td>\n",
              "    </tr>\n",
              "    <tr>\n",
              "      <th>2548765</th>\n",
              "      <td>1993</td>\n",
              "      <td>61240KNNCS2266U</td>\n",
              "      <td>KONE INC ESCALATOR DIV</td>\n",
              "      <td>IL</td>\n",
              "      <td>41.4559</td>\n",
              "      <td>-90.3897</td>\n",
              "      <td>NO</td>\n",
              "      <td>Machinery</td>\n",
              "      <td>COPPER</td>\n",
              "      <td>007440508</td>\n",
              "      <td>NO</td>\n",
              "      <td>TRI</td>\n",
              "      <td>YES</td>\n",
              "      <td>1</td>\n",
              "      <td>NO</td>\n",
              "      <td>0</td>\n",
              "      <td>0</td>\n",
              "      <td>0</td>\n",
              "      <td>0</td>\n",
              "      <td>0</td>\n",
              "      <td>0</td>\n",
              "      <td>0</td>\n",
              "      <td>0</td>\n",
              "      <td>0</td>\n",
              "      <td>0</td>\n",
              "      <td>1570</td>\n",
              "      <td>0</td>\n",
              "      <td>0</td>\n",
              "      <td>0</td>\n",
              "      <td>1570</td>\n",
              "      <td>KONE, INC</td>\n",
              "    </tr>\n",
              "    <tr>\n",
              "      <th>2548766</th>\n",
              "      <td>1993</td>\n",
              "      <td>46514THCNT28722</td>\n",
              "      <td>TRUCK ACCESSORIES GROUP INC. DBA CENTURY FIBER...</td>\n",
              "      <td>IN</td>\n",
              "      <td>41.7298</td>\n",
              "      <td>-86.018</td>\n",
              "      <td>NO</td>\n",
              "      <td>Plastics and Rubber</td>\n",
              "      <td>STYRENE</td>\n",
              "      <td>000100425</td>\n",
              "      <td>YES</td>\n",
              "      <td>TRI</td>\n",
              "      <td>NO</td>\n",
              "      <td>0</td>\n",
              "      <td>YES</td>\n",
              "      <td>2143</td>\n",
              "      <td>8569</td>\n",
              "      <td>0</td>\n",
              "      <td>0</td>\n",
              "      <td>0</td>\n",
              "      <td>0</td>\n",
              "      <td>0</td>\n",
              "      <td>0</td>\n",
              "      <td>10712</td>\n",
              "      <td>0</td>\n",
              "      <td>0</td>\n",
              "      <td>1551</td>\n",
              "      <td>0</td>\n",
              "      <td>10712</td>\n",
              "      <td>12263</td>\n",
              "      <td>TRUCK ACCESSORIES GROUP INC</td>\n",
              "    </tr>\n",
              "    <tr>\n",
              "      <th>2548767</th>\n",
              "      <td>1993</td>\n",
              "      <td>46787HTRSN601HA</td>\n",
              "      <td>DEKKO HEATING TECHNOLOGIES #25</td>\n",
              "      <td>IN</td>\n",
              "      <td>41.0909</td>\n",
              "      <td>-85.6334</td>\n",
              "      <td>NO</td>\n",
              "      <td>Electrical Equipment</td>\n",
              "      <td>ANTIMONY COMPOUNDS</td>\n",
              "      <td>N010</td>\n",
              "      <td>YES</td>\n",
              "      <td>TRI</td>\n",
              "      <td>YES</td>\n",
              "      <td>1</td>\n",
              "      <td>NO</td>\n",
              "      <td>0</td>\n",
              "      <td>0</td>\n",
              "      <td>0</td>\n",
              "      <td>0</td>\n",
              "      <td>0</td>\n",
              "      <td>0</td>\n",
              "      <td>0</td>\n",
              "      <td>0</td>\n",
              "      <td>0</td>\n",
              "      <td>1114</td>\n",
              "      <td>0</td>\n",
              "      <td>0</td>\n",
              "      <td>0</td>\n",
              "      <td>1114</td>\n",
              "      <td>5066</td>\n",
              "      <td>DEKKO HEATING TECHS</td>\n",
              "    </tr>\n",
              "    <tr>\n",
              "      <th>2548768</th>\n",
              "      <td>1993</td>\n",
              "      <td>77704MBLCHGULFS</td>\n",
              "      <td>EXXONMOBIL OIL CORP CHEMICAL PLANT</td>\n",
              "      <td>TX</td>\n",
              "      <td>30.0633</td>\n",
              "      <td>-94.0596</td>\n",
              "      <td>NO</td>\n",
              "      <td>Chemicals</td>\n",
              "      <td>COPPER</td>\n",
              "      <td>007440508</td>\n",
              "      <td>NO</td>\n",
              "      <td>TRI</td>\n",
              "      <td>YES</td>\n",
              "      <td>1</td>\n",
              "      <td>NO</td>\n",
              "      <td>0</td>\n",
              "      <td>0</td>\n",
              "      <td>0</td>\n",
              "      <td>0</td>\n",
              "      <td>0</td>\n",
              "      <td>0</td>\n",
              "      <td>0</td>\n",
              "      <td>0</td>\n",
              "      <td>0</td>\n",
              "      <td>0</td>\n",
              "      <td>0</td>\n",
              "      <td>0</td>\n",
              "      <td>0</td>\n",
              "      <td>0</td>\n",
              "      <td>0</td>\n",
              "      <td>EXXON MOBIL CORP</td>\n",
              "    </tr>\n",
              "  </tbody>\n",
              "</table>\n",
              "<p>2548769 rows × 31 columns</p>\n",
              "</div>"
            ],
            "text/plain": [
              "         YEAR  ...          PARENT_COMPANY_NAME\n",
              "0        2016  ...                          NaN\n",
              "1        2016  ...                          NaN\n",
              "2        2016  ...                  CARGILL INC\n",
              "3        2016  ...       ACUSHNET HOLDINGS CORP\n",
              "4        2016  ...                THE CLOROX CO\n",
              "...       ...  ...                          ...\n",
              "2548764  1993  ...         TTM TECHNOLOGIES INC\n",
              "2548765  1993  ...                    KONE, INC\n",
              "2548766  1993  ...  TRUCK ACCESSORIES GROUP INC\n",
              "2548767  1993  ...          DEKKO HEATING TECHS\n",
              "2548768  1993  ...             EXXON MOBIL CORP\n",
              "\n",
              "[2548769 rows x 31 columns]"
            ]
          },
          "metadata": {},
          "execution_count": 9
        }
      ]
    },
    {
      "cell_type": "code",
      "metadata": {
        "id": "S1VhHJncfvun"
      },
      "source": [
        "#df[2548769:2549000]"
      ],
      "execution_count": null,
      "outputs": []
    },
    {
      "cell_type": "code",
      "metadata": {
        "id": "TLcJS52UmFPn",
        "colab": {
          "base_uri": "https://localhost:8080/"
        },
        "outputId": "f5a33e0d-a304-4442-a4c3-05b7e0f86692"
      },
      "source": [
        "sum(df['YEAR'].map(type) != int)"
      ],
      "execution_count": null,
      "outputs": [
        {
          "output_type": "execute_result",
          "data": {
            "text/plain": [
              "237568"
            ]
          },
          "metadata": {},
          "execution_count": 10
        }
      ]
    },
    {
      "cell_type": "code",
      "metadata": {
        "id": "Us-6Kd4jtmeI",
        "colab": {
          "base_uri": "https://localhost:8080/"
        },
        "outputId": "12de6dea-c742-4dcf-e2d5-4c531d8345d5"
      },
      "source": [
        "group_by_year = df.groupby(['YEAR'])\n",
        "group_by_year.size()"
      ],
      "execution_count": null,
      "outputs": [
        {
          "output_type": "execute_result",
          "data": {
            "text/plain": [
              "YEAR\n",
              "1993     74785\n",
              "1994     73728\n",
              "1995     65536\n",
              "1996     73728\n",
              "1997     65536\n",
              "1998     81920\n",
              "1999     81920\n",
              "2000     81920\n",
              "2001     90112\n",
              "2002     90112\n",
              "2003     81920\n",
              "2004     90112\n",
              "2005     81920\n",
              "2006     81920\n",
              "2007     81920\n",
              "2008     73728\n",
              "2009     73728\n",
              "2010     73728\n",
              "2011    147456\n",
              "2012    163840\n",
              "2013    147456\n",
              "2014    147456\n",
              "2015    147456\n",
              "2016    139264\n",
              "1993      8177\n",
              "1994      4055\n",
              "1995     12164\n",
              "1996      1956\n",
              "1997     10126\n",
              "1998      8880\n",
              "1999      4959\n",
              "2000     12216\n",
              "2001      8488\n",
              "2002      5983\n",
              "2003     12304\n",
              "2004      2022\n",
              "2005      9960\n",
              "2006      8901\n",
              "2007      7041\n",
              "2008     13094\n",
              "2009      7868\n",
              "2010      8348\n",
              "2011     17306\n",
              "2012      1348\n",
              "2013     18234\n",
              "2014     19122\n",
              "2015     15540\n",
              "2016     19446\n",
              "YEAR        30\n",
              "dtype: int64"
            ]
          },
          "metadata": {},
          "execution_count": 11
        }
      ]
    },
    {
      "cell_type": "code",
      "metadata": {
        "id": "uQAhRRWzDQpb"
      },
      "source": [
        "df = df.drop(df[df.YEAR == 'YEAR'].index)"
      ],
      "execution_count": null,
      "outputs": []
    },
    {
      "cell_type": "code",
      "metadata": {
        "id": "vgWuMSw7DYus",
        "colab": {
          "base_uri": "https://localhost:8080/"
        },
        "outputId": "c779190d-b57c-43fc-f089-386cc96677b1"
      },
      "source": [
        "sum(df['YEAR'].map(type) != int)"
      ],
      "execution_count": null,
      "outputs": [
        {
          "output_type": "execute_result",
          "data": {
            "text/plain": [
              "237538"
            ]
          },
          "metadata": {},
          "execution_count": 13
        }
      ]
    },
    {
      "cell_type": "code",
      "metadata": {
        "id": "VPIYtN5AvDRz"
      },
      "source": [
        "#df[793556]\n",
        "df['YEAR'] = pd.to_numeric(df['YEAR'])"
      ],
      "execution_count": null,
      "outputs": []
    },
    {
      "cell_type": "code",
      "metadata": {
        "colab": {
          "base_uri": "https://localhost:8080/"
        },
        "id": "LYfwGtPXQ3sF",
        "outputId": "5b804553-ce04-40e4-92ba-5071f82d7dbe"
      },
      "source": [
        "sum(df['YEAR'].map(type) != int)"
      ],
      "execution_count": null,
      "outputs": [
        {
          "output_type": "execute_result",
          "data": {
            "text/plain": [
              "0"
            ]
          },
          "metadata": {},
          "execution_count": 16
        }
      ]
    },
    {
      "cell_type": "code",
      "metadata": {
        "id": "xEDV1zevkQT5",
        "colab": {
          "base_uri": "https://localhost:8080/"
        },
        "outputId": "c2e8bac2-c2e8-40fc-836e-ac62601b02e1"
      },
      "source": [
        "sum(df['YEAR'].isnull()==True)"
      ],
      "execution_count": null,
      "outputs": [
        {
          "output_type": "execute_result",
          "data": {
            "text/plain": [
              "0"
            ]
          },
          "metadata": {},
          "execution_count": 15
        }
      ]
    },
    {
      "cell_type": "code",
      "metadata": {
        "id": "AmOKoS5RloCh",
        "colab": {
          "base_uri": "https://localhost:8080/"
        },
        "outputId": "3f2ac149-911d-4099-d3b6-37ff399e5284"
      },
      "source": [
        "from scipy import stats\n",
        "\n",
        "most_freq_year, count = stats.mode(df['YEAR'])\n",
        "\n",
        "year_mode = int(most_freq_year) # which age occurs most frequently in the dataset\n",
        "print(year_mode)"
      ],
      "execution_count": null,
      "outputs": [
        {
          "output_type": "stream",
          "name": "stdout",
          "text": [
            "2014\n"
          ]
        }
      ]
    },
    {
      "cell_type": "code",
      "metadata": {
        "id": "y37bgXoOHrBS",
        "colab": {
          "base_uri": "https://localhost:8080/"
        },
        "outputId": "d5cfb9fd-1445-4d6b-a9aa-f643125420f0"
      },
      "source": [
        "group_by_year = df.groupby(['YEAR'])\n",
        "group_by_year.size()"
      ],
      "execution_count": null,
      "outputs": [
        {
          "output_type": "execute_result",
          "data": {
            "text/plain": [
              "YEAR\n",
              "1993     82962\n",
              "1994     77783\n",
              "1995     77700\n",
              "1996     75684\n",
              "1997     75662\n",
              "1998     90800\n",
              "1999     86879\n",
              "2000     94136\n",
              "2001     98600\n",
              "2002     96095\n",
              "2003     94224\n",
              "2004     92134\n",
              "2005     91880\n",
              "2006     90821\n",
              "2007     88961\n",
              "2008     86822\n",
              "2009     81596\n",
              "2010     82076\n",
              "2011    164762\n",
              "2012    165188\n",
              "2013    165690\n",
              "2014    166578\n",
              "2015    162996\n",
              "2016    158710\n",
              "dtype: int64"
            ]
          },
          "metadata": {},
          "execution_count": 17
        }
      ]
    },
    {
      "cell_type": "code",
      "metadata": {
        "id": "K-_Q_vWHH7Cl"
      },
      "source": [
        "df = df.drop(df[df.YEAR <2007].index)"
      ],
      "execution_count": null,
      "outputs": []
    },
    {
      "cell_type": "code",
      "metadata": {
        "id": "g2XaG6heIKwF",
        "colab": {
          "base_uri": "https://localhost:8080/"
        },
        "outputId": "24f2f2ee-6a10-4f8e-f626-c8c346408e5a"
      },
      "source": [
        "group_by_year = df.groupby(['YEAR'])\n",
        "group_by_year.size()"
      ],
      "execution_count": null,
      "outputs": [
        {
          "output_type": "execute_result",
          "data": {
            "text/plain": [
              "YEAR\n",
              "2007     88961\n",
              "2008     86822\n",
              "2009     81596\n",
              "2010     82076\n",
              "2011    164762\n",
              "2012    165188\n",
              "2013    165690\n",
              "2014    166578\n",
              "2015    162996\n",
              "2016    158710\n",
              "dtype: int64"
            ]
          },
          "metadata": {},
          "execution_count": 19
        }
      ]
    },
    {
      "cell_type": "code",
      "metadata": {
        "id": "i0a1Elkk3tDw",
        "colab": {
          "base_uri": "https://localhost:8080/",
          "height": 298
        },
        "outputId": "20a7c287-5340-4f7c-fa53-db2b159e51f9"
      },
      "source": [
        "df.YEAR.value_counts().plot.bar()\n"
      ],
      "execution_count": null,
      "outputs": [
        {
          "output_type": "execute_result",
          "data": {
            "text/plain": [
              "<matplotlib.axes._subplots.AxesSubplot at 0x7f262e8bd7d0>"
            ]
          },
          "metadata": {},
          "execution_count": 20
        },
        {
          "output_type": "display_data",
          "data": {
            "image/png": "[encoded data removed]",
            "text/plain": [
              "<Figure size 432x288 with 1 Axes>"
            ]
          },
          "metadata": {
            "needs_background": "light"
          }
        }
      ]
    },
    {
      "cell_type": "code",
      "metadata": {
        "id": "qNFVSUW_IYXo",
        "colab": {
          "base_uri": "https://localhost:8080/"
        },
        "outputId": "fabfbb91-8ad3-44c3-d62d-f34e761e5513"
      },
      "source": [
        "sum(df['LATITUDE'].map(type) == str)\n"
      ],
      "execution_count": null,
      "outputs": [
        {
          "output_type": "execute_result",
          "data": {
            "text/plain": [
              "127235"
            ]
          },
          "metadata": {},
          "execution_count": 21
        }
      ]
    },
    {
      "cell_type": "code",
      "metadata": {
        "id": "keKFl25hvyCw"
      },
      "source": [
        "df['LATITUDE'] = pd.to_numeric(df['LATITUDE'])\n",
        "df['LONGITUDE'] = pd.to_numeric(df['LONGITUDE'])"
      ],
      "execution_count": null,
      "outputs": []
    },
    {
      "cell_type": "code",
      "metadata": {
        "id": "gd8qUfWywR7P",
        "colab": {
          "base_uri": "https://localhost:8080/"
        },
        "outputId": "a9cd95cc-1980-4c46-8824-ac4445a4c4ce"
      },
      "source": [
        "type(df['LATITUDE'][4])"
      ],
      "execution_count": null,
      "outputs": [
        {
          "output_type": "execute_result",
          "data": {
            "text/plain": [
              "numpy.float64"
            ]
          },
          "metadata": {},
          "execution_count": 23
        }
      ]
    },
    {
      "cell_type": "code",
      "metadata": {
        "id": "Uc-Mdhmfw1yi",
        "colab": {
          "base_uri": "https://localhost:8080/"
        },
        "outputId": "78a5b303-bbee-4a58-8508-7bb25a253584"
      },
      "source": [
        "sum(df['FACILITY_NAME'].map(type) == str)\n"
      ],
      "execution_count": null,
      "outputs": [
        {
          "output_type": "execute_result",
          "data": {
            "text/plain": [
              "1323379"
            ]
          },
          "metadata": {},
          "execution_count": 24
        }
      ]
    },
    {
      "cell_type": "code",
      "metadata": {
        "id": "7_tzqpVDyMZN",
        "colab": {
          "base_uri": "https://localhost:8080/"
        },
        "outputId": "b7bc0950-4746-45e1-9cde-dd877adcaa54"
      },
      "source": [
        "group_by_year = df.groupby(['METAL'])\n",
        "group_by_year.size()"
      ],
      "execution_count": null,
      "outputs": [
        {
          "output_type": "execute_result",
          "data": {
            "text/plain": [
              "METAL\n",
              "NO     819308\n",
              "YES    504071\n",
              "dtype: int64"
            ]
          },
          "metadata": {},
          "execution_count": 25
        }
      ]
    },
    {
      "cell_type": "code",
      "metadata": {
        "id": "FhI9lpdz3UYZ"
      },
      "source": [
        "d = {'YES': True, 'NO': False}\n",
        "df['METAL'] = df['METAL'].map(d)\n",
        "df['FEDERAL_FACILITY'] = df['FEDERAL_FACILITY'].map(d)\n",
        "df['CLEAR_AIR_ACT_CHEMICAL'] = df['CLEAR_AIR_ACT_CHEMICAL'].map(d)\n",
        "df['CARCINOGEN'] = df['CARCINOGEN'].map(d)"
      ],
      "execution_count": null,
      "outputs": []
    },
    {
      "cell_type": "code",
      "metadata": {
        "id": "pOOQAdP9GqlP",
        "colab": {
          "base_uri": "https://localhost:8080/"
        },
        "outputId": "5d3bbaa7-293f-4098-9c24-f7f03aaa0f1b"
      },
      "source": [
        "group_by_year = df.groupby(['CLASSIFICATION'])\n",
        "group_by_year.size()"
      ],
      "execution_count": null,
      "outputs": [
        {
          "output_type": "execute_result",
          "data": {
            "text/plain": [
              "CLASSIFICATION\n",
              "Dioxin      16791\n",
              "PBT        215786\n",
              "TRI       1090802\n",
              "dtype: int64"
            ]
          },
          "metadata": {},
          "execution_count": 27
        }
      ]
    },
    {
      "cell_type": "code",
      "metadata": {
        "colab": {
          "base_uri": "https://localhost:8080/",
          "height": 315
        },
        "id": "-JXIvY6AxBUs",
        "outputId": "22bd7cea-9b5e-4cd3-f21c-e77177d5c23e"
      },
      "source": [
        "df.CLASSIFICATION.value_counts().plot.bar()\n"
      ],
      "execution_count": null,
      "outputs": [
        {
          "output_type": "execute_result",
          "data": {
            "text/plain": [
              "<matplotlib.axes._subplots.AxesSubplot at 0x7f262e365690>"
            ]
          },
          "metadata": {},
          "execution_count": 28
        },
        {
          "output_type": "display_data",
          "data": {
            "image/png": "[encoded data removed]",
            "text/plain": [
              "<Figure size 432x288 with 1 Axes>"
            ]
          },
          "metadata": {
            "needs_background": "light"
          }
        }
      ]
    },
    {
      "cell_type": "code",
      "metadata": {
        "colab": {
          "base_uri": "https://localhost:8080/"
        },
        "id": "lW9jqPLRxGCT",
        "outputId": "bf9b96e8-9259-4d98-c4a9-ec5703dfb275"
      },
      "source": [
        "group_by_year = df.groupby(['PARENT_COMPANY_NAME'])\n",
        "group_by_year.size()"
      ],
      "execution_count": null,
      "outputs": [
        {
          "output_type": "execute_result",
          "data": {
            "text/plain": [
              "PARENT_COMPANY_NAME\n",
              "3A COMPOSITES USA INC                      42\n",
              "3M                                          5\n",
              "3M CO                                    4739\n",
              "3P HOLDINGS INC                            78\n",
              "4-D CORROSION CONTROL SPECIALISTS INC      10\n",
              "                                         ... \n",
              "ZOLTEK CORP                                 6\n",
              "ZOLTEK COS INC.                            24\n",
              "ZSCHIMMER & SCHWARZ                        76\n",
              "ZSCHIMMER & SCHWARZ INC                    92\n",
              "ZTM INC.                                    8\n",
              "Length: 6973, dtype: int64"
            ]
          },
          "metadata": {},
          "execution_count": 29
        }
      ]
    },
    {
      "cell_type": "code",
      "metadata": {
        "colab": {
          "base_uri": "https://localhost:8080/"
        },
        "id": "TMfEsXCLxbc0",
        "outputId": "1adb8d05-1080-44c2-c589-637f35f0d41e"
      },
      "source": [
        "\n",
        "group_by_year = df.groupby(['METAL_CATEGORY'])\n",
        "group_by_year.size()"
      ],
      "execution_count": null,
      "outputs": [
        {
          "output_type": "execute_result",
          "data": {
            "text/plain": [
              "METAL_CATEGORY\n",
              "0    706850\n",
              "1    455606\n",
              "2     11653\n",
              "3     13883\n",
              "4      8040\n",
              "0     75256\n",
              "1     48465\n",
              "2      1226\n",
              "3      1517\n",
              "4       883\n",
              "dtype: int64"
            ]
          },
          "metadata": {},
          "execution_count": 30
        }
      ]
    },
    {
      "cell_type": "code",
      "metadata": {
        "colab": {
          "base_uri": "https://localhost:8080/",
          "height": 279
        },
        "id": "cbHQA83zxo1V",
        "outputId": "fb4d0b84-cfa2-4965-a4c4-d3826f524109"
      },
      "source": [
        "df.METAL_CATEGORY.value_counts().plot.bar()\n"
      ],
      "execution_count": null,
      "outputs": [
        {
          "output_type": "execute_result",
          "data": {
            "text/plain": [
              "<matplotlib.axes._subplots.AxesSubplot at 0x7f53b74b59d0>"
            ]
          },
          "metadata": {},
          "execution_count": 46
        },
        {
          "output_type": "display_data",
          "data": {
            "image/png": "[encoded data removed]",
            "text/plain": [
              "<Figure size 432x288 with 1 Axes>"
            ]
          },
          "metadata": {
            "needs_background": "light"
          }
        }
      ]
    },
    {
      "cell_type": "code",
      "metadata": {
        "id": "25a4eLLn3B8C"
      },
      "source": [
        ""
      ],
      "execution_count": null,
      "outputs": []
    }
  ]
}